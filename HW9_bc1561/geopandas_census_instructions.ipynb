{
 "cells": [
  {
   "cell_type": "markdown",
   "metadata": {},
   "source": [
    "## This notebook is designed to pratice with both geopandas and census data.  This is a simple spatial exploratory analysis of census data. The goal is to assess wheather the location of the [linkNYC](https://www.link.nyc/) access points is optimal to guarantee a more \"democratic\" access to the internet.\n",
    "\n",
    "## THE CENSUS: \n",
    "make sure you do the assigned reading about the census. Census data are a national trasure! The census is a survey  designed to collect data on every person that lives in the USA every 10 years. The Census Bureau collects data, designes aggregation areas (the census blocks and tracts for example, which are designed for maximal homogeneity across all features). However, the Census Bureau does not only collect and aggregate data every 10 years, it also collects the America Community Survey every 5 years, and some more restricted survey on an annual bases. The 1 year survey data is what we will use: https://www.census.gov/services/index.html\n"
   ]
  },
  {
   "cell_type": "markdown",
   "metadata": {},
   "source": [
    "# 1. PUMA : Public Use Microdata Area\n",
    "Census geographies that are not specific political entities (i.e. states, counties etc) are designed for homogeneity so that aggregating the data over the whole area will leat to an estimat (mean or median for example) with minimal variance. Among these geographies are the _census tracts_, _census blocks_, and _Public Use Microdata Areas (PUMAs)_. PUMAs are geographical areas designed to aggregate census data. Each PUMA contains at least 100,000 people. PUMAs do not overlap, and are contained within a single state. \n",
    "\n",
    "## 1.1 download the NYC  Public Use Microdata Areas (PUMA) geometry fron the NYC Open Data API and read it in with geopandas\n",
    "\n",
    "https://data.cityofnewyork.us/Housing-Development/Public-Use-Microdata-Areas-PUMA-/cwiz-gcty/data\n",
    "\n",
    "download it as a shape file. When you download a shapefile you actually download a zipped folder which contains the shape file and other files that are necessary to read the shape file in. You can do that with the urllib library in python 3 with the function \n",
    "\n",
    "        urllib.request.urlretrieve(url, \"file.gz\")\n",
    "\n",
    "then unpack the data into your PUIdata directory, then read it in with geopandas, reading in the shape file with the function \n",
    "\n",
    "        geopandas.GeoDataFrame.from_file(filename)"
   ]
  },
  {
   "cell_type": "code",
   "execution_count": 5,
   "metadata": {},
   "outputs": [],
   "source": [
    "import os\n",
    "import sys\n",
    "import pandas as pd\n",
    "import matplotlib.pyplot as plt\n",
    "import scipy as sp\n",
    "from scipy import stats\n",
    "import numpy as np\n",
    "import statsmodels.formula.api as smf\n",
    "import geopandas as gp\n",
    "import json\n",
    "import urllib.request\n",
    "import zipfile\n",
    "import requests\n",
    "import io\n",
    "from shapely.geometry import Point\n",
    "import choroplethNYC as cp"
   ]
  },
  {
   "cell_type": "code",
   "execution_count": 6,
   "metadata": {},
   "outputs": [
    {
     "data": {
      "text/plain": [
       "'The path to the PUIdata directory is C:/Users/caoba/Google_Drive/PUI2017/PUIdata'"
      ]
     },
     "execution_count": 6,
     "metadata": {},
     "output_type": "execute_result"
    }
   ],
   "source": [
    "PUIdata = os.getenv(\"PUIDATA\")\n",
    "\"The path to the PUIdata directory is \" + PUIdata"
   ]
  },
  {
   "cell_type": "code",
   "execution_count": 7,
   "metadata": {},
   "outputs": [
    {
     "data": {
      "text/plain": [
       "('C:/Users/caoba/Google_Drive/PUI2017/PUIdata/puma.zip',\n",
       " <http.client.HTTPMessage at 0x26c1032e668>)"
      ]
     },
     "execution_count": 7,
     "metadata": {},
     "output_type": "execute_result"
    }
   ],
   "source": [
    "puma_url = 'https://data.cityofnewyork.us/api/geospatial/cwiz-gcty?method=export&format=Shapefile'\n",
    "location = PUIdata + '/' +  'puma.zip'\n",
    "urllib.request.urlretrieve(puma_url, location)"
   ]
  },
  {
   "cell_type": "code",
   "execution_count": 8,
   "metadata": {},
   "outputs": [
    {
     "data": {
      "text/plain": [
       "1"
      ]
     },
     "execution_count": 8,
     "metadata": {},
     "output_type": "execute_result"
    }
   ],
   "source": [
    "os.system('!unzip ' + location )"
   ]
  },
  {
   "cell_type": "code",
   "execution_count": 23,
   "metadata": {},
   "outputs": [
    {
     "name": "stdout",
     "output_type": "stream",
     "text": [
      "Archive:  C:/Users/caoba/Google_Drive/PUI2017/PUIdata/puma.zip\n",
      "  inflating: geo_export_8076b697-6541-4f37-ac2b-54ce15797de6.dbf  \n",
      "  inflating: geo_export_8076b697-6541-4f37-ac2b-54ce15797de6.shp  \n",
      "  inflating: geo_export_8076b697-6541-4f37-ac2b-54ce15797de6.shx  \n",
      "  inflating: geo_export_8076b697-6541-4f37-ac2b-54ce15797de6.prj  \n"
     ]
    }
   ],
   "source": [
    "# !unzip C:/Users/caoba/Google_Drive/PUI2017/PUIdata/puma.zip"
   ]
  },
  {
   "cell_type": "code",
   "execution_count": 9,
   "metadata": {},
   "outputs": [],
   "source": [
    "pumashp = gp.GeoDataFrame.from_file(PUIdata + '/PUMA/geo_export_8076b697-6541-4f37-ac2b-54ce15797de6.shp')"
   ]
  },
  {
   "cell_type": "markdown",
   "metadata": {},
   "source": [
    "PUMAs were first created for the 1990 Census. PUMAs are identified by a specific 4 numbers id. In the shapefile foung at data.cityofnewyork.us the id is named \"puma\" and it is in fact a 4 digits number. You can read it in as an integer (although of course it is a categorical variable inherently!). Often the PUMA id is found in conjunction with the 3 numbers state id, leading to a 7 numbers identification. The id for the State of NY is 036. See this link for more: https://www.census.gov/geo/reference/geoidentifiers.html\n"
   ]
  },
  {
   "cell_type": "code",
   "execution_count": 10,
   "metadata": {},
   "outputs": [
    {
     "data": {
      "text/html": [
       "<div>\n",
       "<style>\n",
       "    .dataframe thead tr:only-child th {\n",
       "        text-align: right;\n",
       "    }\n",
       "\n",
       "    .dataframe thead th {\n",
       "        text-align: left;\n",
       "    }\n",
       "\n",
       "    .dataframe tbody tr th {\n",
       "        vertical-align: top;\n",
       "    }\n",
       "</style>\n",
       "<table border=\"1\" class=\"dataframe\">\n",
       "  <thead>\n",
       "    <tr style=\"text-align: right;\">\n",
       "      <th></th>\n",
       "      <th>puma</th>\n",
       "      <th>shape_leng</th>\n",
       "      <th>shape_area</th>\n",
       "      <th>geometry</th>\n",
       "    </tr>\n",
       "  </thead>\n",
       "  <tbody>\n",
       "    <tr>\n",
       "      <th>0</th>\n",
       "      <td>3701</td>\n",
       "      <td>53227.144376</td>\n",
       "      <td>9.792852e+07</td>\n",
       "      <td>POLYGON ((-73.89641133483133 40.90450452082026...</td>\n",
       "    </tr>\n",
       "    <tr>\n",
       "      <th>1</th>\n",
       "      <td>3702</td>\n",
       "      <td>106050.008344</td>\n",
       "      <td>1.889860e+08</td>\n",
       "      <td>POLYGON ((-73.86477258283533 40.90201244187379...</td>\n",
       "    </tr>\n",
       "    <tr>\n",
       "      <th>2</th>\n",
       "      <td>3703</td>\n",
       "      <td>304875.033427</td>\n",
       "      <td>2.670770e+08</td>\n",
       "      <td>(POLYGON ((-73.78833349834532 40.8346671297593...</td>\n",
       "    </tr>\n",
       "    <tr>\n",
       "      <th>3</th>\n",
       "      <td>3704</td>\n",
       "      <td>47970.900868</td>\n",
       "      <td>1.062129e+08</td>\n",
       "      <td>POLYGON ((-73.84792614069238 40.8713422330779,...</td>\n",
       "    </tr>\n",
       "    <tr>\n",
       "      <th>4</th>\n",
       "      <td>3705</td>\n",
       "      <td>68593.066759</td>\n",
       "      <td>1.224946e+08</td>\n",
       "      <td>POLYGON ((-73.87045508990893 40.86663286876232...</td>\n",
       "    </tr>\n",
       "  </tbody>\n",
       "</table>\n",
       "</div>"
      ],
      "text/plain": [
       "   puma     shape_leng    shape_area  \\\n",
       "0  3701   53227.144376  9.792852e+07   \n",
       "1  3702  106050.008344  1.889860e+08   \n",
       "2  3703  304875.033427  2.670770e+08   \n",
       "3  3704   47970.900868  1.062129e+08   \n",
       "4  3705   68593.066759  1.224946e+08   \n",
       "\n",
       "                                            geometry  \n",
       "0  POLYGON ((-73.89641133483133 40.90450452082026...  \n",
       "1  POLYGON ((-73.86477258283533 40.90201244187379...  \n",
       "2  (POLYGON ((-73.78833349834532 40.8346671297593...  \n",
       "3  POLYGON ((-73.84792614069238 40.8713422330779,...  \n",
       "4  POLYGON ((-73.87045508990893 40.86663286876232...  "
      ]
     },
     "execution_count": 10,
     "metadata": {},
     "output_type": "execute_result"
    }
   ],
   "source": [
    "pumashp.head()"
   ]
  },
  {
   "cell_type": "code",
   "execution_count": null,
   "metadata": {
    "collapsed": true
   },
   "outputs": [],
   "source": [
    "pumashp.index = pumashp['puma']"
   ]
  },
  {
   "cell_type": "code",
   "execution_count": 11,
   "metadata": {},
   "outputs": [
    {
     "data": {
      "text/plain": [
       "{'init': 'epsg:4326'}"
      ]
     },
     "execution_count": 11,
     "metadata": {},
     "output_type": "execute_result"
    }
   ],
   "source": [
    "pumashp.crs"
   ]
  },
  {
   "cell_type": "markdown",
   "metadata": {},
   "source": [
    "## 1.2  plot the PUMA NYC regions\n",
    "\n",
    "you can use the geopandas function plot. \n",
    "What is the appropriate plot to just show the shape of the PUMA regions? A choropleth could be ok, but it is better to just draw the contours of the region, since we do not want to highlight some regions over others by color choices. \n",
    "\n",
    "(Note: a while ago I wrote a quick function that plots choropleths and maps of NYC specifically putting legends and colorbars in the empty spaces taking advantage of the shape of the city and you are welcome to use it: https://github.com/fedhere/choroplethNYC. BUT YOU DO NOT HAVE TO)\n",
    "\n",
    "Your map should look someting like:"
   ]
  },
  {
   "cell_type": "code",
   "execution_count": 13,
   "metadata": {},
   "outputs": [
    {
     "data": {
      "image/png": "[encoded data removed]",
      "text/plain": [
       "<matplotlib.figure.Figure at 0x26c103decc0>"
      ]
     },
     "metadata": {},
     "output_type": "display_data"
    }
   ],
   "source": [
    "cp.choroplethNYC(pumashp, column=None, color=\"white\", edgecolor=\"black\", lw=2);\n",
    "plt.show()"
   ]
  },
  {
   "cell_type": "code",
   "execution_count": 4,
   "metadata": {
    "collapsed": true
   },
   "outputs": [],
   "source": [
    "#sys.path.insert(0, os.getenv(\"PUI2017\") + \"/choroplethNYC\")"
   ]
  },
  {
   "cell_type": "code",
   "execution_count": 238,
   "metadata": {},
   "outputs": [
    {
     "name": "stdout",
     "output_type": "stream",
     "text": [
      "['C:/Users/caoba/Google_Drive/PUI2017/choroplethNYC', '', 'C:\\\\Users\\\\caoba\\\\Anaconda3\\\\python36.zip', 'C:\\\\Users\\\\caoba\\\\Anaconda3\\\\DLLs', 'C:\\\\Users\\\\caoba\\\\Anaconda3\\\\lib', 'C:\\\\Users\\\\caoba\\\\Anaconda3', 'C:\\\\Users\\\\caoba\\\\Anaconda3\\\\lib\\\\site-packages', 'C:\\\\Users\\\\caoba\\\\Anaconda3\\\\lib\\\\site-packages\\\\Sphinx-1.5.6-py3.6.egg', 'C:\\\\Users\\\\caoba\\\\Anaconda3\\\\lib\\\\site-packages\\\\win32', 'C:\\\\Users\\\\caoba\\\\Anaconda3\\\\lib\\\\site-packages\\\\win32\\\\lib', 'C:\\\\Users\\\\caoba\\\\Anaconda3\\\\lib\\\\site-packages\\\\Pythonwin', 'C:\\\\Users\\\\caoba\\\\Anaconda3\\\\lib\\\\site-packages\\\\setuptools-27.2.0-py3.6.egg', 'C:\\\\Users\\\\caoba\\\\Anaconda3\\\\lib\\\\site-packages\\\\IPython\\\\extensions', 'C:\\\\Users\\\\caoba\\\\.ipython']\n"
     ]
    }
   ],
   "source": [
    "#print(sys.path)"
   ]
  },
  {
   "cell_type": "markdown",
   "metadata": {},
   "source": [
    "__Fig1__: the plot above is the PUMA districts in NYC"
   ]
  },
  {
   "cell_type": "markdown",
   "metadata": {},
   "source": [
    "# 2. American Fact Finder data on percentage of houses with broadband internet access\n",
    "\n",
    "Download the table of data from 2016 for NYC: you want to obtain data on broadband access (percentage of households with broadband access) at the PUMA (Public Use Microdata Area) geographical area level. \n",
    "\n",
    "This may be tricky. But familiarizing with Census and American Commjunity Survey data is super important for urban science. Here you should use the API, but you should also practice interacting with the website: \n",
    "\n",
    "You  should read the datta in thgouth the API but also download the data manually and compare the two datasets."
   ]
  },
  {
   "cell_type": "markdown",
   "metadata": {},
   "source": [
    "## 2.1 Get data with American Fact Finder (AFF) API: \n",
    "you can request an API key, although I think it is not necessary for this search (but it is good to practice). Obtain a key and save it into a python file. DO NOT UPLOAD THE FILE CONTAINING THE API KEY TO GITHUB. Keep your API keys private. "
   ]
  },
  {
   "cell_type": "code",
   "execution_count": 104,
   "metadata": {},
   "outputs": [],
   "source": [
    "#reading in my api key saved in censusAPI.py as\n",
    "from censusAPI import myAPI\n",
    "\n",
    "# myAPI = 'dc980b15f7bb294b9535937e8c9a7d10f647eded'\n",
    "# from censusAPI import myAPI"
   ]
  },
  {
   "cell_type": "markdown",
   "metadata": {},
   "source": [
    "If you need help with the API you can ask questions in this [Gitter channel](https://gitter.im/uscensusbureau/general) (I did myself to design this homework!) \n",
    "The internet subscription by household is data surveyd annually. You can find out what are the features that you can query through the API for the annually surveyed data at this url: https://api.census.gov/data/2016/acs/acs1/variables.json\n",
    "\n",
    "read it in as a jason file - you can do it with pandas (but it is slow). You can do it as I do below with the request package"
   ]
  },
  {
   "cell_type": "code",
   "execution_count": 15,
   "metadata": {
    "collapsed": true
   },
   "outputs": [],
   "source": [
    "#read in in the variables available. the info you need is in the 1year ACS data\n",
    "url = \"https://api.census.gov/data/2016/acs/acs1/variables.json\"\n",
    "resp = requests.request('GET', url)\n",
    "aff1y = json.loads(resp.text)"
   ]
  },
  {
   "cell_type": "code",
   "execution_count": 16,
   "metadata": {
    "collapsed": true
   },
   "outputs": [],
   "source": [
    "#turning things into arrays to enable broadcasting\n",
    "#Python3\n",
    "affkeys = np.array(list(aff1y['variables'].keys()))\n",
    "#Python2\n",
    "#affkeys = np.array(aff1y['variables'].keys())"
   ]
  },
  {
   "cell_type": "markdown",
   "metadata": {},
   "source": [
    "You need two features: **total number of households**, and **number of households with broadband access**\n",
    "\n",
    "Broadband access is one of the B28002 keys. However there are many of those! Each variable has several observations associated to it: B28002 is all internet access data (broadband, dial up, none, ...), and for each of those you have the estimate (count, mean, median, percentage...), the margin of errors, and annotations. Those are identified by an appendix that begins with \"\\_\". Look carefully at the line of code below and its output. I am creating a list that contains the keys of the dictionary I created from the json file for all B28002 observations  (rows that start with \"B28002\") that include the word \"Broadband\" in the description.\n",
    "\n",
    "The syntax is a lost comprehension:\n",
    "\n",
    "        as = \\[a for a in listOfAs\\] \n",
    "\n",
    "is simply a compact way to write\n",
    "\n",
    "        as = \\[\\]\n",
    "        for a in listOfAs:\n",
    "            as.append(a)\n",
    "            \n",
    "with an if statement tha selects broadband         "
   ]
  },
  {
   "cell_type": "code",
   "execution_count": 17,
   "metadata": {},
   "outputs": [
    {
     "data": {
      "text/plain": [
       "[('B28002_004EA',\n",
       "  'Annotation of Estimate!!Total!!With an Internet subscription!!Broadband of any type'),\n",
       " ('B28002_004MA',\n",
       "  'Annotation of Margin of Error!!Total!!With an Internet subscription!!Broadband of any type'),\n",
       " ('B28002_007EA',\n",
       "  'Annotation of Estimate!!Total!!With an Internet subscription!!Broadband such as cable, fiber optic or DSL'),\n",
       " ('B28002_008EA',\n",
       "  'Annotation of Estimate!!Total!!With an Internet subscription!!Broadband such as cable, fiber optic or DSL!!Broadband such as cable, fiber optic or DSL with no other type of Internet subscription'),\n",
       " ('B28002_007MA',\n",
       "  'Annotation of Margin of Error!!Total!!With an Internet subscription!!Broadband such as cable, fiber optic or DSL'),\n",
       " ('B28002_008MA',\n",
       "  'Annotation of Margin of Error!!Total!!With an Internet subscription!!Broadband such as cable, fiber optic or DSL!!Broadband such as cable, fiber optic or DSL with no other type of Internet subscription'),\n",
       " ('B28002_008M',\n",
       "  'Margin of Error!!Total!!With an Internet subscription!!Broadband such as cable, fiber optic or DSL!!Broadband such as cable, fiber optic or DSL with no other type of Internet subscription'),\n",
       " ('B28002_008E',\n",
       "  'Estimate!!Total!!With an Internet subscription!!Broadband such as cable, fiber optic or DSL!!Broadband such as cable, fiber optic or DSL with no other type of Internet subscription'),\n",
       " ('B28002_007E',\n",
       "  'Estimate!!Total!!With an Internet subscription!!Broadband such as cable, fiber optic or DSL'),\n",
       " ('B28002_007M',\n",
       "  'Margin of Error!!Total!!With an Internet subscription!!Broadband such as cable, fiber optic or DSL'),\n",
       " ('B28002_004E',\n",
       "  'Estimate!!Total!!With an Internet subscription!!Broadband of any type'),\n",
       " ('B28002_004M',\n",
       "  'Margin of Error!!Total!!With an Internet subscription!!Broadband of any type')]"
      ]
     },
     "execution_count": 17,
     "metadata": {},
     "output_type": "execute_result"
    }
   ],
   "source": [
    "#extracting variables of B28002 that contain \"broadband\"\n",
    "[(k, aff1y['variables'][k]['label'])  for k in affkeys if k.startswith (\"B28002\") and \n",
    " 'Broadband' in aff1y['variables'][k]['label']]"
   ]
  },
  {
   "cell_type": "markdown",
   "metadata": {},
   "source": [
    "chose the appropriate variable and extract the relevant data: below I select the variable containing the number of household per PUMA. The \"all\" variable, which tells you what is the total number of units queried (households here) is generally stored in the \\_001 variable (B28002_001 in this case). \"E\" stands for *estimate*. M stands for *margin of error*, EA *estimate annotations*, MA *margin of error annotations*. You want the estimate for this exercise. "
   ]
  },
  {
   "cell_type": "code",
   "execution_count": 18,
   "metadata": {},
   "outputs": [
    {
     "data": {
      "text/plain": [
       "{'attributes': 'B28002_001M,B28002_001EA',\n",
       " 'concept': 'PRESENCE AND TYPES OF INTERNET SUBSCRIPTIONS IN HOUSEHOLD',\n",
       " 'group': 'B28002',\n",
       " 'label': 'Estimate!!Total',\n",
       " 'limit': 0,\n",
       " 'predicateType': 'int',\n",
       " 'validValues': []}"
      ]
     },
     "execution_count": 18,
     "metadata": {},
     "output_type": "execute_result"
    }
   ],
   "source": [
    "#keyword for the number of households\n",
    "keyNhouseholds = 'B28002_001E'\n",
    "aff1y['variables'][keyNhouseholds]"
   ]
  },
  {
   "cell_type": "markdown",
   "metadata": {},
   "source": [
    "Similarly, choose the fractions of houses with any \"With an Internet subscription!!Broadband of any type\""
   ]
  },
  {
   "cell_type": "code",
   "execution_count": 19,
   "metadata": {},
   "outputs": [
    {
     "data": {
      "text/plain": [
       "{'attributes': 'B28002_004M,B28002_004EA',\n",
       " 'concept': 'PRESENCE AND TYPES OF INTERNET SUBSCRIPTIONS IN HOUSEHOLD',\n",
       " 'group': 'B28002',\n",
       " 'label': 'Estimate!!Total!!With an Internet subscription!!Broadband of any type',\n",
       " 'limit': 0,\n",
       " 'predicateType': 'int',\n",
       " 'validValues': []}"
      ]
     },
     "execution_count": 19,
     "metadata": {},
     "output_type": "execute_result"
    }
   ],
   "source": [
    "#keyword for the number of households with broarband access\n",
    "keyNBB = 'B28002_004E'\n",
    "aff1y['variables'][keyNBB]"
   ]
  },
  {
   "cell_type": "markdown",
   "metadata": {},
   "source": [
    "Now that you have the variable names use them to extract the relevant data with the ACS API. \n",
    "\n",
    "The API url is as follows:\n",
    "\n",
    "root: https://api.census.gov/data/2016/acs/acs1\n",
    "\n",
    "action: get=\\[variable Name\\],NAME\n",
    "\n",
    "geometry: for=\\[geometry\\]:\\[desired geometry values\\]in=\\[larger geometry\\]:\\[desired larger geometry values\\]\n",
    "\n",
    "API key: key:\\[api key\\]\n",
    "\n",
    "the URL is constructed as root?action&geometry&key\n",
    "\n",
    "Note that it took me a long time to figure out how to request the right geometry: in the url I write below the geometry is \"public%20use%20microdata%20area\" where %20 is the character for ' ' (space) in a url, and \":\\*\" means all PUMAS\n",
    "\n",
    "state:36 is New York State"
   ]
  },
  {
   "cell_type": "code",
   "execution_count": 20,
   "metadata": {},
   "outputs": [
    {
     "data": {
      "text/html": [
       "<div>\n",
       "<style>\n",
       "    .dataframe thead tr:only-child th {\n",
       "        text-align: right;\n",
       "    }\n",
       "\n",
       "    .dataframe thead th {\n",
       "        text-align: left;\n",
       "    }\n",
       "\n",
       "    .dataframe tbody tr th {\n",
       "        vertical-align: top;\n",
       "    }\n",
       "</style>\n",
       "<table border=\"1\" class=\"dataframe\">\n",
       "  <thead>\n",
       "    <tr style=\"text-align: right;\">\n",
       "      <th></th>\n",
       "      <th>B28002_004E</th>\n",
       "      <th>NAME</th>\n",
       "      <th>state</th>\n",
       "      <th>public use microdata area</th>\n",
       "      <th>Unnamed: 4</th>\n",
       "    </tr>\n",
       "  </thead>\n",
       "  <tbody>\n",
       "    <tr>\n",
       "      <th>0</th>\n",
       "      <td>32607</td>\n",
       "      <td>St. Lawrence County PUMA, New York</td>\n",
       "      <td>36</td>\n",
       "      <td>100</td>\n",
       "      <td>NaN</td>\n",
       "    </tr>\n",
       "    <tr>\n",
       "      <th>1</th>\n",
       "      <td>50811</td>\n",
       "      <td>Clinton, Franklin, Essex &amp; Hamilton Counties P...</td>\n",
       "      <td>36</td>\n",
       "      <td>200</td>\n",
       "      <td>NaN</td>\n",
       "    </tr>\n",
       "    <tr>\n",
       "      <th>2</th>\n",
       "      <td>41210</td>\n",
       "      <td>Warren &amp; Washington Counties PUMA, New York</td>\n",
       "      <td>36</td>\n",
       "      <td>300</td>\n",
       "      <td>NaN</td>\n",
       "    </tr>\n",
       "    <tr>\n",
       "      <th>3</th>\n",
       "      <td>36075</td>\n",
       "      <td>Herkimer (North &amp; Central) &amp; Oneida (Outer) Co...</td>\n",
       "      <td>36</td>\n",
       "      <td>401</td>\n",
       "      <td>NaN</td>\n",
       "    </tr>\n",
       "    <tr>\n",
       "      <th>4</th>\n",
       "      <td>47786</td>\n",
       "      <td>Oneida County (Central)--Greater Utica &amp; Rome ...</td>\n",
       "      <td>36</td>\n",
       "      <td>402</td>\n",
       "      <td>NaN</td>\n",
       "    </tr>\n",
       "  </tbody>\n",
       "</table>\n",
       "</div>"
      ],
      "text/plain": [
       "   B28002_004E                                               NAME  state  \\\n",
       "0        32607                 St. Lawrence County PUMA, New York     36   \n",
       "1        50811  Clinton, Franklin, Essex & Hamilton Counties P...     36   \n",
       "2        41210        Warren & Washington Counties PUMA, New York     36   \n",
       "3        36075  Herkimer (North & Central) & Oneida (Outer) Co...     36   \n",
       "4        47786  Oneida County (Central)--Greater Utica & Rome ...     36   \n",
       "\n",
       "   public use microdata area  Unnamed: 4  \n",
       "0                        100         NaN  \n",
       "1                        200         NaN  \n",
       "2                        300         NaN  \n",
       "3                        401         NaN  \n",
       "4                        402         NaN  "
      ]
     },
     "execution_count": 20,
     "metadata": {},
     "output_type": "execute_result"
    }
   ],
   "source": [
    "# getting the broadband access number of households\n",
    "url = \"https://api.census.gov/data/2016/acs/acs1?get=\" + keyNBB +\\\n",
    "\",NAME&for=public%20use%20microdata%20area:*&in=state:36&key=\" + myAPI\n",
    "resp = requests.request('GET', url).content\n",
    "pumaBB = pd.read_csv(io.StringIO(resp.decode('utf-8').replace('[','').replace(']','')))\n",
    "\n",
    "pumaBB.head()"
   ]
  },
  {
   "cell_type": "code",
   "execution_count": 21,
   "metadata": {
    "collapsed": true
   },
   "outputs": [],
   "source": [
    "#getting the first row of the table: the total number of households\n",
    "url = \"https://api.census.gov/data/2016/acs/acs1?get=\" + keyNhouseholds +\\\n",
    "\",NAME&for=public%20use%20microdata%20area:*&in=state:36&key=\" + myAPI\n",
    "resp = requests.request('GET', url).content\n",
    "pumaPP = pd.read_csv(io.StringIO(resp.decode('utf-8').replace('[','').replace(']','')))"
   ]
  },
  {
   "cell_type": "code",
   "execution_count": 22,
   "metadata": {},
   "outputs": [
    {
     "data": {
      "text/html": [
       "<div>\n",
       "<style>\n",
       "    .dataframe thead tr:only-child th {\n",
       "        text-align: right;\n",
       "    }\n",
       "\n",
       "    .dataframe thead th {\n",
       "        text-align: left;\n",
       "    }\n",
       "\n",
       "    .dataframe tbody tr th {\n",
       "        vertical-align: top;\n",
       "    }\n",
       "</style>\n",
       "<table border=\"1\" class=\"dataframe\">\n",
       "  <thead>\n",
       "    <tr style=\"text-align: right;\">\n",
       "      <th></th>\n",
       "      <th>B28002_001E</th>\n",
       "      <th>NAME</th>\n",
       "      <th>state</th>\n",
       "      <th>public use microdata area</th>\n",
       "      <th>Unnamed: 4</th>\n",
       "    </tr>\n",
       "  </thead>\n",
       "  <tbody>\n",
       "    <tr>\n",
       "      <th>0</th>\n",
       "      <td>40479</td>\n",
       "      <td>St. Lawrence County PUMA, New York</td>\n",
       "      <td>36</td>\n",
       "      <td>100</td>\n",
       "      <td>NaN</td>\n",
       "    </tr>\n",
       "    <tr>\n",
       "      <th>1</th>\n",
       "      <td>67092</td>\n",
       "      <td>Clinton, Franklin, Essex &amp; Hamilton Counties P...</td>\n",
       "      <td>36</td>\n",
       "      <td>200</td>\n",
       "      <td>NaN</td>\n",
       "    </tr>\n",
       "    <tr>\n",
       "      <th>2</th>\n",
       "      <td>51614</td>\n",
       "      <td>Warren &amp; Washington Counties PUMA, New York</td>\n",
       "      <td>36</td>\n",
       "      <td>300</td>\n",
       "      <td>NaN</td>\n",
       "    </tr>\n",
       "    <tr>\n",
       "      <th>3</th>\n",
       "      <td>44300</td>\n",
       "      <td>Herkimer (North &amp; Central) &amp; Oneida (Outer) Co...</td>\n",
       "      <td>36</td>\n",
       "      <td>401</td>\n",
       "      <td>NaN</td>\n",
       "    </tr>\n",
       "    <tr>\n",
       "      <th>4</th>\n",
       "      <td>61146</td>\n",
       "      <td>Oneida County (Central)--Greater Utica &amp; Rome ...</td>\n",
       "      <td>36</td>\n",
       "      <td>402</td>\n",
       "      <td>NaN</td>\n",
       "    </tr>\n",
       "  </tbody>\n",
       "</table>\n",
       "</div>"
      ],
      "text/plain": [
       "   B28002_001E                                               NAME  state  \\\n",
       "0        40479                 St. Lawrence County PUMA, New York     36   \n",
       "1        67092  Clinton, Franklin, Essex & Hamilton Counties P...     36   \n",
       "2        51614        Warren & Washington Counties PUMA, New York     36   \n",
       "3        44300  Herkimer (North & Central) & Oneida (Outer) Co...     36   \n",
       "4        61146  Oneida County (Central)--Greater Utica & Rome ...     36   \n",
       "\n",
       "   public use microdata area  Unnamed: 4  \n",
       "0                        100         NaN  \n",
       "1                        200         NaN  \n",
       "2                        300         NaN  \n",
       "3                        401         NaN  \n",
       "4                        402         NaN  "
      ]
     },
     "execution_count": 22,
     "metadata": {},
     "output_type": "execute_result"
    }
   ],
   "source": [
    "pumaPP.head()"
   ]
  },
  {
   "cell_type": "markdown",
   "metadata": {},
   "source": [
    "## 2.2 generate a feature for the percentage of households with broadband access"
   ]
  },
  {
   "cell_type": "code",
   "execution_count": 23,
   "metadata": {
    "collapsed": true
   },
   "outputs": [],
   "source": [
    "pumaBB = pumaBB.merge(pumaPP[['NAME', 'B28002_001E']], left_on = 'NAME', right_on = 'NAME')\n",
    "pumaBB = pumaBB[['B28002_004E', 'NAME', 'state', 'public use microdata area', 'B28002_001E']]"
   ]
  },
  {
   "cell_type": "code",
   "execution_count": 24,
   "metadata": {
    "collapsed": true
   },
   "outputs": [],
   "source": [
    "pumaBB['pcBB'] = pumaBB.B28002_004E/pumaBB.B28002_001E * 100"
   ]
  },
  {
   "cell_type": "code",
   "execution_count": 25,
   "metadata": {},
   "outputs": [
    {
     "data": {
      "text/html": [
       "<div>\n",
       "<style>\n",
       "    .dataframe thead tr:only-child th {\n",
       "        text-align: right;\n",
       "    }\n",
       "\n",
       "    .dataframe thead th {\n",
       "        text-align: left;\n",
       "    }\n",
       "\n",
       "    .dataframe tbody tr th {\n",
       "        vertical-align: top;\n",
       "    }\n",
       "</style>\n",
       "<table border=\"1\" class=\"dataframe\">\n",
       "  <thead>\n",
       "    <tr style=\"text-align: right;\">\n",
       "      <th></th>\n",
       "      <th>B28002_004E</th>\n",
       "      <th>NAME</th>\n",
       "      <th>state</th>\n",
       "      <th>public use microdata area</th>\n",
       "      <th>B28002_001E</th>\n",
       "      <th>pcBB</th>\n",
       "    </tr>\n",
       "  </thead>\n",
       "  <tbody>\n",
       "    <tr>\n",
       "      <th>0</th>\n",
       "      <td>32607</td>\n",
       "      <td>St. Lawrence County PUMA, New York</td>\n",
       "      <td>36</td>\n",
       "      <td>100</td>\n",
       "      <td>40479</td>\n",
       "      <td>80.552879</td>\n",
       "    </tr>\n",
       "    <tr>\n",
       "      <th>1</th>\n",
       "      <td>50811</td>\n",
       "      <td>Clinton, Franklin, Essex &amp; Hamilton Counties P...</td>\n",
       "      <td>36</td>\n",
       "      <td>200</td>\n",
       "      <td>67092</td>\n",
       "      <td>75.733321</td>\n",
       "    </tr>\n",
       "    <tr>\n",
       "      <th>2</th>\n",
       "      <td>41210</td>\n",
       "      <td>Warren &amp; Washington Counties PUMA, New York</td>\n",
       "      <td>36</td>\n",
       "      <td>300</td>\n",
       "      <td>51614</td>\n",
       "      <td>79.842678</td>\n",
       "    </tr>\n",
       "    <tr>\n",
       "      <th>3</th>\n",
       "      <td>36075</td>\n",
       "      <td>Herkimer (North &amp; Central) &amp; Oneida (Outer) Co...</td>\n",
       "      <td>36</td>\n",
       "      <td>401</td>\n",
       "      <td>44300</td>\n",
       "      <td>81.433409</td>\n",
       "    </tr>\n",
       "    <tr>\n",
       "      <th>4</th>\n",
       "      <td>47786</td>\n",
       "      <td>Oneida County (Central)--Greater Utica &amp; Rome ...</td>\n",
       "      <td>36</td>\n",
       "      <td>402</td>\n",
       "      <td>61146</td>\n",
       "      <td>78.150656</td>\n",
       "    </tr>\n",
       "  </tbody>\n",
       "</table>\n",
       "</div>"
      ],
      "text/plain": [
       "   B28002_004E                                               NAME  state  \\\n",
       "0        32607                 St. Lawrence County PUMA, New York     36   \n",
       "1        50811  Clinton, Franklin, Essex & Hamilton Counties P...     36   \n",
       "2        41210        Warren & Washington Counties PUMA, New York     36   \n",
       "3        36075  Herkimer (North & Central) & Oneida (Outer) Co...     36   \n",
       "4        47786  Oneida County (Central)--Greater Utica & Rome ...     36   \n",
       "\n",
       "   public use microdata area  B28002_001E       pcBB  \n",
       "0                        100        40479  80.552879  \n",
       "1                        200        67092  75.733321  \n",
       "2                        300        51614  79.842678  \n",
       "3                        401        44300  81.433409  \n",
       "4                        402        61146  78.150656  "
      ]
     },
     "execution_count": 25,
     "metadata": {},
     "output_type": "execute_result"
    }
   ],
   "source": [
    "pumaBB.head()"
   ]
  },
  {
   "cell_type": "markdown",
   "metadata": {},
   "source": [
    "## 2.3 Now compare it with the AFF published \"percentage of households with broadband access\" which is a feature available through their website but that cannot be downloaded directly from the API. It compiled by AFF the same way we did above"
   ]
  },
  {
   "cell_type": "markdown",
   "metadata": {},
   "source": [
    "Manually you can download the GCT Geographic Comparison Tables. Download the GCT table that contains the percentage of households in each PUMA with broadband internet subscription as follows:\n",
    "\n",
    "https://factfinder.census.gov/ -> Advanced Search -> Show me all \n",
    "\n",
    "    - Topics: Product Type -> Geography Comparison Table \n",
    "    \n",
    "select the PERCENT OF HOUSEHOLDS WITH A BROADBAND INTERNET SUBSCRIPTION  at our geography granularity (PUMA) and click Download below. This will generate the table on the fly and you can click again on Download.\n",
    "\n",
    "Move the file into the PUIdata directory, unzip it and load it with pandas.\n",
    "    \n",
    "Your table shold be labeled as: GCT2801\t"
   ]
  },
  {
   "cell_type": "markdown",
   "metadata": {},
   "source": [
    "One more hurdle: you need to move this data to jupyterhub/compute, and the link is not something you can copy and paste!\n",
    "Two solutions:\n",
    "\n",
    "-easier but less preferible: upload the table you downloaded locally to github AWS, or else where, and download it from compute\n",
    "\n",
    "-otherwise, learn how to do it with sftp from your local terminal: these are the steps\n",
    "\n",
    "1. ON YOUR LOCAL MACHINE where you downloaded the table (which was downloaded as aff_download.zip for me in my ~/Downloads folder) type the following *sftp* command\n",
    "        \n",
    "        fbianco@Federicas-MacBook-Air:~$ sftp fbianco@staging.cusp.nyu.edu\n",
    "    \n",
    "2. Input your password\n",
    "            \n",
    "        Password: \n",
    "        Connected to staging.cusp.nyu.edu.\n",
    "\n",
    "   This should open an sftp promopt (you should see sftp> at the beginning of the line). Go to the PUI directory (for me /home/fbianco/PUIdata)\n",
    "    \n",
    "        sftp> cd /home/fbianco/PUIdata             \n",
    "        \n",
    "3. Use the sftp command _put_ to copy the file from the local to the remote machine to compute, making sure you use the full path (unless the file was downloaded in your local directory in the local machine)\n",
    "    \n",
    "        sftp> put /Users/fbianco/Downloads/aff_download.zip\n",
    "        \n",
    "You should see:\n",
    "\n",
    "            Uploading /Users/fbianco/Downloads/aff_download.zip to ....\n",
    "\n",
    "And the file can be unzipped and read into your code with pandas. I leave the read in line below for your convenience, those are the only variables you need."
   ]
  },
  {
   "cell_type": "code",
   "execution_count": 26,
   "metadata": {},
   "outputs": [
    {
     "data": {
      "text/html": [
       "<div>\n",
       "<style>\n",
       "    .dataframe thead tr:only-child th {\n",
       "        text-align: right;\n",
       "    }\n",
       "\n",
       "    .dataframe thead th {\n",
       "        text-align: left;\n",
       "    }\n",
       "\n",
       "    .dataframe tbody tr th {\n",
       "        vertical-align: top;\n",
       "    }\n",
       "</style>\n",
       "<table border=\"1\" class=\"dataframe\">\n",
       "  <thead>\n",
       "    <tr style=\"text-align: right;\">\n",
       "      <th></th>\n",
       "      <th>GCT_STUB.target-geo-id2</th>\n",
       "      <th>HC01</th>\n",
       "      <th>HC02</th>\n",
       "      <th>gid</th>\n",
       "      <th>sid</th>\n",
       "    </tr>\n",
       "  </thead>\n",
       "  <tbody>\n",
       "    <tr>\n",
       "      <th>1</th>\n",
       "      <td>01</td>\n",
       "      <td>74.7</td>\n",
       "      <td>0.5</td>\n",
       "      <td>1</td>\n",
       "      <td>1</td>\n",
       "    </tr>\n",
       "    <tr>\n",
       "      <th>2</th>\n",
       "      <td>0100100</td>\n",
       "      <td>70.9</td>\n",
       "      <td>2.5</td>\n",
       "      <td>100</td>\n",
       "      <td>1</td>\n",
       "    </tr>\n",
       "    <tr>\n",
       "      <th>3</th>\n",
       "      <td>0100200</td>\n",
       "      <td>80.5</td>\n",
       "      <td>2.7</td>\n",
       "      <td>200</td>\n",
       "      <td>1</td>\n",
       "    </tr>\n",
       "    <tr>\n",
       "      <th>4</th>\n",
       "      <td>0100301</td>\n",
       "      <td>87.0</td>\n",
       "      <td>2.8</td>\n",
       "      <td>301</td>\n",
       "      <td>1</td>\n",
       "    </tr>\n",
       "    <tr>\n",
       "      <th>5</th>\n",
       "      <td>0100302</td>\n",
       "      <td>81.9</td>\n",
       "      <td>2.9</td>\n",
       "      <td>302</td>\n",
       "      <td>1</td>\n",
       "    </tr>\n",
       "  </tbody>\n",
       "</table>\n",
       "</div>"
      ],
      "text/plain": [
       "  GCT_STUB.target-geo-id2  HC01 HC02  gid  sid\n",
       "1                      01  74.7  0.5    1    1\n",
       "2                 0100100  70.9  2.5  100    1\n",
       "3                 0100200  80.5  2.7  200    1\n",
       "4                 0100301  87.0  2.8  301    1\n",
       "5                 0100302  81.9  2.9  302    1"
      ]
     },
     "execution_count": 26,
     "metadata": {},
     "output_type": "execute_result"
    }
   ],
   "source": [
    "bbpc = pd.read_csv(os.getenv(\"PUIDATA\") + \"/ACS_16_1YR_GCT2801.ST50_with_ann.csv\",\n",
    "            usecols=[\"GCT_STUB.target-geo-id2\",\"HC01\",\"HC02\"])\n",
    "bbpc.drop(0, inplace=True)\n",
    "bbpc[\"gid\"] = list(map(lambda x: int(x[-4:]), bbpc['GCT_STUB.target-geo-id2']))\n",
    "bbpc[\"sid\"] = list(map(lambda x: int(x[0:2]), bbpc['GCT_STUB.target-geo-id2']))\n",
    "bbpc.head()"
   ]
  },
  {
   "cell_type": "code",
   "execution_count": 27,
   "metadata": {
    "collapsed": true
   },
   "outputs": [],
   "source": [
    "bbpc = bbpc[bbpc.sid == 36]"
   ]
  },
  {
   "cell_type": "markdown",
   "metadata": {},
   "source": [
    "notice 2 things:\n",
    "    - that the Target Geo Id2: GCT_STUB.target-geo-id2 is a 7 digits number. See my comment above about it. \n",
    "    - that there is a weird double header. You can deal with it in one of 2 ways: either reread the file in skipping one row and using the second row as header, or remove that row (for example with bbpc.drop(0, inplace=True)) but also then you should check the *type* of your GCT_STUB.target-geo-id2 feature! The fact that pandas had to read in a column with nombers and characters forced it to read it as a string, and you need to convert it (.astype(int)) to merge it easily with the API acquired data.\n",
    "    \n",
    "In the API dataframe the PUMA id was a 4 digit number. If you have them both as integers and you remove the initial three digits (for example by subtracting 360000 from each value wich you can do as bbpc[\"gid\"] = bbpc.gid - 3600000 then you can merge on the puma id "
   ]
  },
  {
   "cell_type": "markdown",
   "metadata": {},
   "source": [
    "## check that the percentage of households with broadband you generated and the one you red in from the table you downloaded manually are the same"
   ]
  },
  {
   "cell_type": "code",
   "execution_count": 28,
   "metadata": {
    "collapsed": true
   },
   "outputs": [],
   "source": [
    "diff_ = pumaBB.merge(bbpc, how = 'inner', right_on=\"gid\", \n",
    "                     left_on=\"public use microdata area\")[[\"pcBB\", \"HC01\"]]\n",
    "diff_[\"HC01\"] = diff_[\"HC01\"].astype(float)\n",
    "diff_[\"diff\"] = np.abs(diff_[\"pcBB\"] - diff_[\"HC01\"])"
   ]
  },
  {
   "cell_type": "code",
   "execution_count": 29,
   "metadata": {},
   "outputs": [
    {
     "data": {
      "text/html": [
       "<div>\n",
       "<style>\n",
       "    .dataframe thead tr:only-child th {\n",
       "        text-align: right;\n",
       "    }\n",
       "\n",
       "    .dataframe thead th {\n",
       "        text-align: left;\n",
       "    }\n",
       "\n",
       "    .dataframe tbody tr th {\n",
       "        vertical-align: top;\n",
       "    }\n",
       "</style>\n",
       "<table border=\"1\" class=\"dataframe\">\n",
       "  <thead>\n",
       "    <tr style=\"text-align: right;\">\n",
       "      <th></th>\n",
       "      <th>pcBB</th>\n",
       "      <th>HC01</th>\n",
       "      <th>diff</th>\n",
       "    </tr>\n",
       "  </thead>\n",
       "  <tbody>\n",
       "    <tr>\n",
       "      <th>count</th>\n",
       "      <td>145.000000</td>\n",
       "      <td>145.000000</td>\n",
       "      <td>145.000000</td>\n",
       "    </tr>\n",
       "    <tr>\n",
       "      <th>mean</th>\n",
       "      <td>81.845478</td>\n",
       "      <td>81.843448</td>\n",
       "      <td>0.026217</td>\n",
       "    </tr>\n",
       "    <tr>\n",
       "      <th>std</th>\n",
       "      <td>7.063369</td>\n",
       "      <td>7.065358</td>\n",
       "      <td>0.014480</td>\n",
       "    </tr>\n",
       "    <tr>\n",
       "      <th>min</th>\n",
       "      <td>54.932945</td>\n",
       "      <td>54.900000</td>\n",
       "      <td>0.000178</td>\n",
       "    </tr>\n",
       "    <tr>\n",
       "      <th>25%</th>\n",
       "      <td>77.770257</td>\n",
       "      <td>77.800000</td>\n",
       "      <td>0.012252</td>\n",
       "    </tr>\n",
       "    <tr>\n",
       "      <th>50%</th>\n",
       "      <td>82.826141</td>\n",
       "      <td>82.800000</td>\n",
       "      <td>0.027230</td>\n",
       "    </tr>\n",
       "    <tr>\n",
       "      <th>75%</th>\n",
       "      <td>87.305077</td>\n",
       "      <td>87.300000</td>\n",
       "      <td>0.039090</td>\n",
       "    </tr>\n",
       "    <tr>\n",
       "      <th>max</th>\n",
       "      <td>93.404143</td>\n",
       "      <td>93.400000</td>\n",
       "      <td>0.049872</td>\n",
       "    </tr>\n",
       "  </tbody>\n",
       "</table>\n",
       "</div>"
      ],
      "text/plain": [
       "             pcBB        HC01        diff\n",
       "count  145.000000  145.000000  145.000000\n",
       "mean    81.845478   81.843448    0.026217\n",
       "std      7.063369    7.065358    0.014480\n",
       "min     54.932945   54.900000    0.000178\n",
       "25%     77.770257   77.800000    0.012252\n",
       "50%     82.826141   82.800000    0.027230\n",
       "75%     87.305077   87.300000    0.039090\n",
       "max     93.404143   93.400000    0.049872"
      ]
     },
     "execution_count": 29,
     "metadata": {},
     "output_type": "execute_result"
    }
   ],
   "source": [
    "diff_.describe()"
   ]
  },
  {
   "cell_type": "markdown",
   "metadata": {},
   "source": [
    "the maximum difference should only be a few percent"
   ]
  },
  {
   "cell_type": "markdown",
   "metadata": {},
   "source": [
    "# 3 Plot a choropleth of NYC broadband access \n",
    "## 3.1 Merge with the puma geodataframe and plot a choropleth of the percentage of households with broadband access"
   ]
  },
  {
   "cell_type": "code",
   "execution_count": 30,
   "metadata": {
    "collapsed": true
   },
   "outputs": [],
   "source": [
    "#choropleth of the percentage of internet axcess\n",
    "pumashp['puma'] = pumashp['puma'].astype(int)\n",
    "pumashp = pumashp.merge(pumaBB, left_on = 'puma', right_on = 'public use microdata area')"
   ]
  },
  {
   "cell_type": "code",
   "execution_count": 31,
   "metadata": {},
   "outputs": [
    {
     "data": {
      "image/png": "[encoded data removed]",
      "text/plain": [
       "<matplotlib.figure.Figure at 0x26c21079748>"
      ]
     },
     "metadata": {},
     "output_type": "display_data"
    }
   ],
   "source": [
    "cp.choroplethNYC(pumashp, column = 'pcBB')\n",
    "plt.show()"
   ]
  },
  {
   "cell_type": "markdown",
   "metadata": {},
   "source": [
    "# caption of course.... "
   ]
  },
  {
   "cell_type": "markdown",
   "metadata": {},
   "source": [
    "# 4. LinkNYC: assess whether the locations of the linkNYC stations are supplying internet where it is needed.\n",
    "\n",
    "acquire the linkNYC locations and prepare them into a dataframe\n",
    "read it in from the HW9_fb55 folder in :\n",
    "https://github.com/fedhere/PUI2017_fb55\n",
    "\n",
    "Notice that you can also get a linkNYC locations shapefile from NYC open data, as I did to generate this, but I want you do to do some extra coordinates gymnastics for practice so use the one I provide."
   ]
  },
  {
   "cell_type": "code",
   "execution_count": 32,
   "metadata": {
    "collapsed": true
   },
   "outputs": [],
   "source": [
    "linkNYC = pd.read_csv('https://github.com/fedhere/PUI2017_fb55/raw/master/HW9_fb55/linkNYClocations.csv', index_col = 0)"
   ]
  },
  {
   "cell_type": "code",
   "execution_count": 33,
   "metadata": {},
   "outputs": [
    {
     "data": {
      "text/html": [
       "<div>\n",
       "<style>\n",
       "    .dataframe thead tr:only-child th {\n",
       "        text-align: right;\n",
       "    }\n",
       "\n",
       "    .dataframe thead th {\n",
       "        text-align: left;\n",
       "    }\n",
       "\n",
       "    .dataframe tbody tr th {\n",
       "        vertical-align: top;\n",
       "    }\n",
       "</style>\n",
       "<table border=\"1\" class=\"dataframe\">\n",
       "  <thead>\n",
       "    <tr style=\"text-align: right;\">\n",
       "      <th></th>\n",
       "      <th>link_site</th>\n",
       "      <th>longitude</th>\n",
       "      <th>date_link_</th>\n",
       "      <th>latitude</th>\n",
       "    </tr>\n",
       "  </thead>\n",
       "  <tbody>\n",
       "    <tr>\n",
       "      <th>0</th>\n",
       "      <td>bk-01-138951</td>\n",
       "      <td>-73.942489</td>\n",
       "      <td>2017-07-01</td>\n",
       "      <td>40.701668</td>\n",
       "    </tr>\n",
       "    <tr>\n",
       "      <th>1</th>\n",
       "      <td>bk-01-109091</td>\n",
       "      <td>-73.942169</td>\n",
       "      <td>2017-07-01</td>\n",
       "      <td>40.701542</td>\n",
       "    </tr>\n",
       "    <tr>\n",
       "      <th>2</th>\n",
       "      <td>bk-01-143982</td>\n",
       "      <td>-73.942239</td>\n",
       "      <td>2017-07-01</td>\n",
       "      <td>40.701930</td>\n",
       "    </tr>\n",
       "    <tr>\n",
       "      <th>3</th>\n",
       "      <td>bk-01-109262</td>\n",
       "      <td>-73.942918</td>\n",
       "      <td>2017-04-28</td>\n",
       "      <td>40.705060</td>\n",
       "    </tr>\n",
       "    <tr>\n",
       "      <th>4</th>\n",
       "      <td>bk-01-125268</td>\n",
       "      <td>-73.953439</td>\n",
       "      <td>2017-03-31</td>\n",
       "      <td>40.728133</td>\n",
       "    </tr>\n",
       "  </tbody>\n",
       "</table>\n",
       "</div>"
      ],
      "text/plain": [
       "      link_site  longitude  date_link_   latitude\n",
       "0  bk-01-138951 -73.942489  2017-07-01  40.701668\n",
       "1  bk-01-109091 -73.942169  2017-07-01  40.701542\n",
       "2  bk-01-143982 -73.942239  2017-07-01  40.701930\n",
       "3  bk-01-109262 -73.942918  2017-04-28  40.705060\n",
       "4  bk-01-125268 -73.953439  2017-03-31  40.728133"
      ]
     },
     "execution_count": 33,
     "metadata": {},
     "output_type": "execute_result"
    }
   ],
   "source": [
    "linkNYC.head()"
   ]
  },
  {
   "cell_type": "code",
   "execution_count": 34,
   "metadata": {},
   "outputs": [
    {
     "data": {
      "text/plain": [
       "(1414, 4)"
      ]
     },
     "execution_count": 34,
     "metadata": {},
     "output_type": "execute_result"
    }
   ],
   "source": [
    "linkNYC.shape"
   ]
  },
  {
   "cell_type": "markdown",
   "metadata": {},
   "source": [
    "## combine long lat into a column like you did in the lab to greate a \"geometry\" column for the dataframe, then convert the dataframe into a GeoDataFrame _linkNYC_ and set native coordinates  frame to lat/lon as you did in the lab\n",
    "    linkNYC.crs = ..."
   ]
  },
  {
   "cell_type": "code",
   "execution_count": 42,
   "metadata": {
    "collapsed": true
   },
   "outputs": [],
   "source": [
    "linkNYC.crs = {'init': 'epsg:4326'}"
   ]
  },
  {
   "cell_type": "code",
   "execution_count": 36,
   "metadata": {
    "collapsed": true
   },
   "outputs": [],
   "source": [
    "linkNYC['lonlat'] = list(zip(linkNYC.longitude, linkNYC.latitude))"
   ]
  },
  {
   "cell_type": "code",
   "execution_count": 37,
   "metadata": {
    "collapsed": true
   },
   "outputs": [],
   "source": [
    "linkNYC['geometry'] = list(map(lambda x: Point(x), linkNYC.lonlat))"
   ]
  },
  {
   "cell_type": "code",
   "execution_count": 38,
   "metadata": {
    "collapsed": true
   },
   "outputs": [],
   "source": [
    "linkNYC = gp.GeoDataFrame(linkNYC)"
   ]
  },
  {
   "cell_type": "code",
   "execution_count": 39,
   "metadata": {},
   "outputs": [
    {
     "data": {
      "text/html": [
       "<div>\n",
       "<style>\n",
       "    .dataframe thead tr:only-child th {\n",
       "        text-align: right;\n",
       "    }\n",
       "\n",
       "    .dataframe thead th {\n",
       "        text-align: left;\n",
       "    }\n",
       "\n",
       "    .dataframe tbody tr th {\n",
       "        vertical-align: top;\n",
       "    }\n",
       "</style>\n",
       "<table border=\"1\" class=\"dataframe\">\n",
       "  <thead>\n",
       "    <tr style=\"text-align: right;\">\n",
       "      <th></th>\n",
       "      <th>link_site</th>\n",
       "      <th>longitude</th>\n",
       "      <th>date_link_</th>\n",
       "      <th>latitude</th>\n",
       "      <th>lonlat</th>\n",
       "      <th>geometry</th>\n",
       "    </tr>\n",
       "  </thead>\n",
       "  <tbody>\n",
       "    <tr>\n",
       "      <th>0</th>\n",
       "      <td>bk-01-138951</td>\n",
       "      <td>-73.942489</td>\n",
       "      <td>2017-07-01</td>\n",
       "      <td>40.701668</td>\n",
       "      <td>(-73.94248859, 40.70166753)</td>\n",
       "      <td>POINT (-73.94248859 40.70166753)</td>\n",
       "    </tr>\n",
       "    <tr>\n",
       "      <th>1</th>\n",
       "      <td>bk-01-109091</td>\n",
       "      <td>-73.942169</td>\n",
       "      <td>2017-07-01</td>\n",
       "      <td>40.701542</td>\n",
       "      <td>(-73.9421692831, 40.7015421938)</td>\n",
       "      <td>POINT (-73.9421692831 40.7015421938)</td>\n",
       "    </tr>\n",
       "    <tr>\n",
       "      <th>2</th>\n",
       "      <td>bk-01-143982</td>\n",
       "      <td>-73.942239</td>\n",
       "      <td>2017-07-01</td>\n",
       "      <td>40.701930</td>\n",
       "      <td>(-73.9422392385, 40.7019303439)</td>\n",
       "      <td>POINT (-73.94223923850001 40.7019303439)</td>\n",
       "    </tr>\n",
       "    <tr>\n",
       "      <th>3</th>\n",
       "      <td>bk-01-109262</td>\n",
       "      <td>-73.942918</td>\n",
       "      <td>2017-04-28</td>\n",
       "      <td>40.705060</td>\n",
       "      <td>(-73.94291758, 40.70506042)</td>\n",
       "      <td>POINT (-73.94291758 40.70506042)</td>\n",
       "    </tr>\n",
       "    <tr>\n",
       "      <th>4</th>\n",
       "      <td>bk-01-125268</td>\n",
       "      <td>-73.953439</td>\n",
       "      <td>2017-03-31</td>\n",
       "      <td>40.728133</td>\n",
       "      <td>(-73.953439, 40.728133)</td>\n",
       "      <td>POINT (-73.953439 40.728133)</td>\n",
       "    </tr>\n",
       "  </tbody>\n",
       "</table>\n",
       "</div>"
      ],
      "text/plain": [
       "      link_site  longitude  date_link_   latitude  \\\n",
       "0  bk-01-138951 -73.942489  2017-07-01  40.701668   \n",
       "1  bk-01-109091 -73.942169  2017-07-01  40.701542   \n",
       "2  bk-01-143982 -73.942239  2017-07-01  40.701930   \n",
       "3  bk-01-109262 -73.942918  2017-04-28  40.705060   \n",
       "4  bk-01-125268 -73.953439  2017-03-31  40.728133   \n",
       "\n",
       "                            lonlat                                  geometry  \n",
       "0      (-73.94248859, 40.70166753)          POINT (-73.94248859 40.70166753)  \n",
       "1  (-73.9421692831, 40.7015421938)      POINT (-73.9421692831 40.7015421938)  \n",
       "2  (-73.9422392385, 40.7019303439)  POINT (-73.94223923850001 40.7019303439)  \n",
       "3      (-73.94291758, 40.70506042)          POINT (-73.94291758 40.70506042)  \n",
       "4          (-73.953439, 40.728133)              POINT (-73.953439 40.728133)  "
      ]
     },
     "execution_count": 39,
     "metadata": {},
     "output_type": "execute_result"
    }
   ],
   "source": [
    "linkNYC.head()"
   ]
  },
  {
   "cell_type": "code",
   "execution_count": 43,
   "metadata": {},
   "outputs": [
    {
     "data": {
      "text/plain": [
       "{'init': 'epsg:4326'}"
      ]
     },
     "execution_count": 43,
     "metadata": {},
     "output_type": "execute_result"
    }
   ],
   "source": [
    "linkNYC.crs"
   ]
  },
  {
   "cell_type": "markdown",
   "metadata": {},
   "source": [
    "# plot the location of the linkNYC stations on top of a choropleth of broadband access percentage in *5 equal intervals*\n",
    "\n",
    "I have also color coded the station by how long ago they have been installed, using the date datetime variable"
   ]
  },
  {
   "cell_type": "code",
   "execution_count": 44,
   "metadata": {
    "collapsed": true
   },
   "outputs": [],
   "source": [
    "linkNYC.date_link_ = pd.to_datetime(linkNYC.date_link_)"
   ]
  },
  {
   "cell_type": "code",
   "execution_count": 45,
   "metadata": {
    "collapsed": true
   },
   "outputs": [],
   "source": [
    "linkNYC['age'] = list(map(lambda x: 2017 - x.year, linkNYC.date_link_))"
   ]
  },
  {
   "cell_type": "code",
   "execution_count": 46,
   "metadata": {},
   "outputs": [
    {
     "data": {
      "text/html": [
       "<div>\n",
       "<style>\n",
       "    .dataframe thead tr:only-child th {\n",
       "        text-align: right;\n",
       "    }\n",
       "\n",
       "    .dataframe thead th {\n",
       "        text-align: left;\n",
       "    }\n",
       "\n",
       "    .dataframe tbody tr th {\n",
       "        vertical-align: top;\n",
       "    }\n",
       "</style>\n",
       "<table border=\"1\" class=\"dataframe\">\n",
       "  <thead>\n",
       "    <tr style=\"text-align: right;\">\n",
       "      <th></th>\n",
       "      <th>link_site</th>\n",
       "      <th>longitude</th>\n",
       "      <th>date_link_</th>\n",
       "      <th>latitude</th>\n",
       "      <th>lonlat</th>\n",
       "      <th>geometry</th>\n",
       "      <th>age</th>\n",
       "    </tr>\n",
       "  </thead>\n",
       "  <tbody>\n",
       "    <tr>\n",
       "      <th>0</th>\n",
       "      <td>bk-01-138951</td>\n",
       "      <td>-73.942489</td>\n",
       "      <td>2017-07-01</td>\n",
       "      <td>40.701668</td>\n",
       "      <td>(-73.94248859, 40.70166753)</td>\n",
       "      <td>POINT (-73.94248859 40.70166753)</td>\n",
       "      <td>0</td>\n",
       "    </tr>\n",
       "    <tr>\n",
       "      <th>1</th>\n",
       "      <td>bk-01-109091</td>\n",
       "      <td>-73.942169</td>\n",
       "      <td>2017-07-01</td>\n",
       "      <td>40.701542</td>\n",
       "      <td>(-73.9421692831, 40.7015421938)</td>\n",
       "      <td>POINT (-73.9421692831 40.7015421938)</td>\n",
       "      <td>0</td>\n",
       "    </tr>\n",
       "    <tr>\n",
       "      <th>2</th>\n",
       "      <td>bk-01-143982</td>\n",
       "      <td>-73.942239</td>\n",
       "      <td>2017-07-01</td>\n",
       "      <td>40.701930</td>\n",
       "      <td>(-73.9422392385, 40.7019303439)</td>\n",
       "      <td>POINT (-73.94223923850001 40.7019303439)</td>\n",
       "      <td>0</td>\n",
       "    </tr>\n",
       "    <tr>\n",
       "      <th>3</th>\n",
       "      <td>bk-01-109262</td>\n",
       "      <td>-73.942918</td>\n",
       "      <td>2017-04-28</td>\n",
       "      <td>40.705060</td>\n",
       "      <td>(-73.94291758, 40.70506042)</td>\n",
       "      <td>POINT (-73.94291758 40.70506042)</td>\n",
       "      <td>0</td>\n",
       "    </tr>\n",
       "    <tr>\n",
       "      <th>4</th>\n",
       "      <td>bk-01-125268</td>\n",
       "      <td>-73.953439</td>\n",
       "      <td>2017-03-31</td>\n",
       "      <td>40.728133</td>\n",
       "      <td>(-73.953439, 40.728133)</td>\n",
       "      <td>POINT (-73.953439 40.728133)</td>\n",
       "      <td>0</td>\n",
       "    </tr>\n",
       "  </tbody>\n",
       "</table>\n",
       "</div>"
      ],
      "text/plain": [
       "      link_site  longitude date_link_   latitude  \\\n",
       "0  bk-01-138951 -73.942489 2017-07-01  40.701668   \n",
       "1  bk-01-109091 -73.942169 2017-07-01  40.701542   \n",
       "2  bk-01-143982 -73.942239 2017-07-01  40.701930   \n",
       "3  bk-01-109262 -73.942918 2017-04-28  40.705060   \n",
       "4  bk-01-125268 -73.953439 2017-03-31  40.728133   \n",
       "\n",
       "                            lonlat                                  geometry  \\\n",
       "0      (-73.94248859, 40.70166753)          POINT (-73.94248859 40.70166753)   \n",
       "1  (-73.9421692831, 40.7015421938)      POINT (-73.9421692831 40.7015421938)   \n",
       "2  (-73.9422392385, 40.7019303439)  POINT (-73.94223923850001 40.7019303439)   \n",
       "3      (-73.94291758, 40.70506042)          POINT (-73.94291758 40.70506042)   \n",
       "4          (-73.953439, 40.728133)              POINT (-73.953439 40.728133)   \n",
       "\n",
       "   age  \n",
       "0    0  \n",
       "1    0  \n",
       "2    0  \n",
       "3    0  \n",
       "4    0  "
      ]
     },
     "execution_count": 46,
     "metadata": {},
     "output_type": "execute_result"
    }
   ],
   "source": [
    "linkNYC.head()"
   ]
  },
  {
   "cell_type": "code",
   "execution_count": 47,
   "metadata": {},
   "outputs": [
    {
     "data": {
      "image/png": "[encoded data removed]",
      "text/plain": [
       "<matplotlib.figure.Figure at 0x26c1412f0f0>"
      ]
     },
     "metadata": {},
     "output_type": "display_data"
    }
   ],
   "source": [
    "base = pumashp.plot(column='pcBB', cmap=\"Blues_r\",legend=True, figsize=(12, 12))\n",
    "linkNYC.plot(column='age', ax=base, cmap=\"Reds_r\", markersize = 1, legend=True)\n",
    "plt.show()"
   ]
  },
  {
   "cell_type": "code",
   "execution_count": null,
   "metadata": {
    "collapsed": true
   },
   "outputs": [],
   "source": [
    "# base =cp.choroplethNYC(pumashp, column='pcBB', cmap=\"Blues_r\")\n",
    "# cp.choroplethNYC(linkNYC, column = 'age', ax = base, cmap=\"Reds_r\")\n",
    "# plt.show()"
   ]
  },
  {
   "cell_type": "markdown",
   "metadata": {},
   "source": [
    "# 5 Find the number of linkNYC locations per person by PUMA\n",
    "\n",
    "## 5.1 with the AFF API from ACS get the total population by puma and merge it into your GeoDF"
   ]
  },
  {
   "cell_type": "markdown",
   "metadata": {},
   "source": [
    "the ACS population by  variable is B00001_001E, and of course your geometry is PUMA, _public%20use%20microdata%20area:*_, as before"
   ]
  },
  {
   "cell_type": "code",
   "execution_count": 48,
   "metadata": {
    "collapsed": true
   },
   "outputs": [],
   "source": [
    "#getting the first row of the table: the total number of households\n",
    "keyPop = 'B00001_001E'\n",
    "url = \"https://api.census.gov/data/2016/acs/acs1?get=\" + keyPop +\\\n",
    "\",NAME&for=public%20use%20microdata%20area:*&in=state:36&key=\" + myAPI\n",
    "resp = requests.request('GET', url).content\n",
    "pumaPop = pd.read_csv(io.StringIO(resp.decode('utf-8').replace('[','').replace(']','')))"
   ]
  },
  {
   "cell_type": "code",
   "execution_count": 79,
   "metadata": {},
   "outputs": [],
   "source": [
    "pumaPop = pumaPop[['B00001_001E','NAME','state','public use microdata area']]\n",
    "pumaPop.index = pumaPop['public use microdata area']"
   ]
  },
  {
   "cell_type": "code",
   "execution_count": 80,
   "metadata": {},
   "outputs": [
    {
     "data": {
      "text/html": [
       "<div>\n",
       "<style>\n",
       "    .dataframe thead tr:only-child th {\n",
       "        text-align: right;\n",
       "    }\n",
       "\n",
       "    .dataframe thead th {\n",
       "        text-align: left;\n",
       "    }\n",
       "\n",
       "    .dataframe tbody tr th {\n",
       "        vertical-align: top;\n",
       "    }\n",
       "</style>\n",
       "<table border=\"1\" class=\"dataframe\">\n",
       "  <thead>\n",
       "    <tr style=\"text-align: right;\">\n",
       "      <th></th>\n",
       "      <th>B00001_001E</th>\n",
       "      <th>NAME</th>\n",
       "      <th>state</th>\n",
       "      <th>public use microdata area</th>\n",
       "    </tr>\n",
       "    <tr>\n",
       "      <th>public use microdata area</th>\n",
       "      <th></th>\n",
       "      <th></th>\n",
       "      <th></th>\n",
       "      <th></th>\n",
       "    </tr>\n",
       "  </thead>\n",
       "  <tbody>\n",
       "    <tr>\n",
       "      <th>100</th>\n",
       "      <td>3075</td>\n",
       "      <td>St. Lawrence County PUMA, New York</td>\n",
       "      <td>36</td>\n",
       "      <td>100</td>\n",
       "    </tr>\n",
       "    <tr>\n",
       "      <th>200</th>\n",
       "      <td>4356</td>\n",
       "      <td>Clinton, Franklin, Essex &amp; Hamilton Counties P...</td>\n",
       "      <td>36</td>\n",
       "      <td>200</td>\n",
       "    </tr>\n",
       "    <tr>\n",
       "      <th>300</th>\n",
       "      <td>2736</td>\n",
       "      <td>Warren &amp; Washington Counties PUMA, New York</td>\n",
       "      <td>36</td>\n",
       "      <td>300</td>\n",
       "    </tr>\n",
       "    <tr>\n",
       "      <th>401</th>\n",
       "      <td>2722</td>\n",
       "      <td>Herkimer (North &amp; Central) &amp; Oneida (Outer) Co...</td>\n",
       "      <td>36</td>\n",
       "      <td>401</td>\n",
       "    </tr>\n",
       "    <tr>\n",
       "      <th>402</th>\n",
       "      <td>2874</td>\n",
       "      <td>Oneida County (Central)--Greater Utica &amp; Rome ...</td>\n",
       "      <td>36</td>\n",
       "      <td>402</td>\n",
       "    </tr>\n",
       "  </tbody>\n",
       "</table>\n",
       "</div>"
      ],
      "text/plain": [
       "                           B00001_001E  \\\n",
       "public use microdata area                \n",
       "100                               3075   \n",
       "200                               4356   \n",
       "300                               2736   \n",
       "401                               2722   \n",
       "402                               2874   \n",
       "\n",
       "                                                                        NAME  \\\n",
       "public use microdata area                                                      \n",
       "100                                       St. Lawrence County PUMA, New York   \n",
       "200                        Clinton, Franklin, Essex & Hamilton Counties P...   \n",
       "300                              Warren & Washington Counties PUMA, New York   \n",
       "401                        Herkimer (North & Central) & Oneida (Outer) Co...   \n",
       "402                        Oneida County (Central)--Greater Utica & Rome ...   \n",
       "\n",
       "                           state  public use microdata area  \n",
       "public use microdata area                                    \n",
       "100                           36                        100  \n",
       "200                           36                        200  \n",
       "300                           36                        300  \n",
       "401                           36                        401  \n",
       "402                           36                        402  "
      ]
     },
     "execution_count": 80,
     "metadata": {},
     "output_type": "execute_result"
    }
   ],
   "source": [
    "pumaPop.head()"
   ]
  },
  {
   "cell_type": "code",
   "execution_count": 81,
   "metadata": {
    "collapsed": true
   },
   "outputs": [],
   "source": [
    "pumashp.loc[:, 'population'] = pumaPop.loc[pumashp.index, 'B00001_001E']"
   ]
  },
  {
   "cell_type": "markdown",
   "metadata": {},
   "source": [
    "## 5.2 find the number of station per 100 people per PUMA\n",
    "**Important** you can do this with an sjoin(). But sjoin() should not be used with lat/lon coordinates cause they are **not \"flat coordinates\"**. Since spattial joins are done in cartesian geometry the only coordinate systems suitable to spatial joins are flat coordinate plane systems, which in the NYC area is 2263. So before you proceed to the sjoin you have to convert both pumashp and linkNYC to 2263 (for example with GeoDataFrame method .to_crs(epsg=...) )\n",
    "\n",
    "\n",
    "(A note: You can also do this by hand by asking for each point if it is in any of the regions, for example in a for loop. But that is escruciatingly slow, unless you get smart about your requests (for example for a given PUMA not asking if the coordinates of a point are very different from the center of a PUMA). With the new version of geopandas this is not needed, cause the sjoin is fast, but with the older versions this was sometimes better) )"
   ]
  },
  {
   "cell_type": "markdown",
   "metadata": {},
   "source": [
    "convert coordinates for pumashp and linkNYC"
   ]
  },
  {
   "cell_type": "markdown",
   "metadata": {},
   "source": [
    "create a geodataframe with a spatial join and use groupby to count the number of linkNYC in each PUMA"
   ]
  },
  {
   "cell_type": "code",
   "execution_count": 55,
   "metadata": {
    "collapsed": true
   },
   "outputs": [],
   "source": [
    "gp.sjoin?"
   ]
  },
  {
   "cell_type": "code",
   "execution_count": 54,
   "metadata": {},
   "outputs": [],
   "source": [
    "linkNYC = linkNYC.to_crs(epsg=2263)\n",
    "pumashp = pumashp.to_crs(epsg=2263)"
   ]
  },
  {
   "cell_type": "code",
   "execution_count": 71,
   "metadata": {},
   "outputs": [],
   "source": [
    "linkpp = gp.sjoin(linkNYC, pumashp).groupby(['puma']).count()\n",
    "linkpp = linkpp[['link_site']]"
   ]
  },
  {
   "cell_type": "code",
   "execution_count": 72,
   "metadata": {},
   "outputs": [
    {
     "data": {
      "text/html": [
       "<div>\n",
       "<style>\n",
       "    .dataframe thead tr:only-child th {\n",
       "        text-align: right;\n",
       "    }\n",
       "\n",
       "    .dataframe thead th {\n",
       "        text-align: left;\n",
       "    }\n",
       "\n",
       "    .dataframe tbody tr th {\n",
       "        vertical-align: top;\n",
       "    }\n",
       "</style>\n",
       "<table border=\"1\" class=\"dataframe\">\n",
       "  <thead>\n",
       "    <tr style=\"text-align: right;\">\n",
       "      <th></th>\n",
       "      <th>link_site</th>\n",
       "    </tr>\n",
       "    <tr>\n",
       "      <th>puma</th>\n",
       "      <th></th>\n",
       "    </tr>\n",
       "  </thead>\n",
       "  <tbody>\n",
       "    <tr>\n",
       "      <th>3701</th>\n",
       "      <td>1</td>\n",
       "    </tr>\n",
       "    <tr>\n",
       "      <th>3705</th>\n",
       "      <td>1</td>\n",
       "    </tr>\n",
       "    <tr>\n",
       "      <th>3706</th>\n",
       "      <td>20</td>\n",
       "    </tr>\n",
       "    <tr>\n",
       "      <th>3707</th>\n",
       "      <td>29</td>\n",
       "    </tr>\n",
       "    <tr>\n",
       "      <th>3708</th>\n",
       "      <td>19</td>\n",
       "    </tr>\n",
       "  </tbody>\n",
       "</table>\n",
       "</div>"
      ],
      "text/plain": [
       "      link_site\n",
       "puma           \n",
       "3701          1\n",
       "3705          1\n",
       "3706         20\n",
       "3707         29\n",
       "3708         19"
      ]
     },
     "execution_count": 72,
     "metadata": {},
     "output_type": "execute_result"
    }
   ],
   "source": [
    "linkpp.head()"
   ]
  },
  {
   "cell_type": "markdown",
   "metadata": {},
   "source": [
    "finally merge back into the pumashp. Make sure you use the correct scheme for merging: you want to have _all_ the PUMAs, not only the ones that have linkNYC in them in the final geoDF"
   ]
  },
  {
   "cell_type": "code",
   "execution_count": 75,
   "metadata": {
    "collapsed": true
   },
   "outputs": [],
   "source": [
    "pumashp.loc[linkpp.index, 'link_site'] = linkpp.link_site"
   ]
  },
  {
   "cell_type": "code",
   "execution_count": 82,
   "metadata": {},
   "outputs": [
    {
     "data": {
      "text/html": [
       "<div>\n",
       "<style>\n",
       "    .dataframe thead tr:only-child th {\n",
       "        text-align: right;\n",
       "    }\n",
       "\n",
       "    .dataframe thead th {\n",
       "        text-align: left;\n",
       "    }\n",
       "\n",
       "    .dataframe tbody tr th {\n",
       "        vertical-align: top;\n",
       "    }\n",
       "</style>\n",
       "<table border=\"1\" class=\"dataframe\">\n",
       "  <thead>\n",
       "    <tr style=\"text-align: right;\">\n",
       "      <th></th>\n",
       "      <th>puma</th>\n",
       "      <th>shape_leng</th>\n",
       "      <th>shape_area</th>\n",
       "      <th>geometry</th>\n",
       "      <th>B28002_004E</th>\n",
       "      <th>NAME</th>\n",
       "      <th>state</th>\n",
       "      <th>public use microdata area</th>\n",
       "      <th>B28002_001E</th>\n",
       "      <th>pcBB</th>\n",
       "      <th>link_site</th>\n",
       "      <th>population</th>\n",
       "    </tr>\n",
       "    <tr>\n",
       "      <th>puma</th>\n",
       "      <th></th>\n",
       "      <th></th>\n",
       "      <th></th>\n",
       "      <th></th>\n",
       "      <th></th>\n",
       "      <th></th>\n",
       "      <th></th>\n",
       "      <th></th>\n",
       "      <th></th>\n",
       "      <th></th>\n",
       "      <th></th>\n",
       "      <th></th>\n",
       "    </tr>\n",
       "  </thead>\n",
       "  <tbody>\n",
       "    <tr>\n",
       "      <th>3701</th>\n",
       "      <td>3701</td>\n",
       "      <td>53227.144376</td>\n",
       "      <td>9.792852e+07</td>\n",
       "      <td>POLYGON ((1012885.033996583 268830.4841918442,...</td>\n",
       "      <td>35529</td>\n",
       "      <td>NYC-Bronx Community District 8--Riverdale, Fie...</td>\n",
       "      <td>36</td>\n",
       "      <td>3701</td>\n",
       "      <td>42158</td>\n",
       "      <td>84.275820</td>\n",
       "      <td>1.0</td>\n",
       "      <td>1517</td>\n",
       "    </tr>\n",
       "    <tr>\n",
       "      <th>3702</th>\n",
       "      <td>3702</td>\n",
       "      <td>106050.008344</td>\n",
       "      <td>1.889860e+08</td>\n",
       "      <td>POLYGON ((1021632.335632326 267934.4393920284,...</td>\n",
       "      <td>34030</td>\n",
       "      <td>NYC-Bronx Community District 12--Wakefield, Wi...</td>\n",
       "      <td>36</td>\n",
       "      <td>3702</td>\n",
       "      <td>49817</td>\n",
       "      <td>68.310015</td>\n",
       "      <td>NaN</td>\n",
       "      <td>1959</td>\n",
       "    </tr>\n",
       "    <tr>\n",
       "      <th>3703</th>\n",
       "      <td>3703</td>\n",
       "      <td>304875.033427</td>\n",
       "      <td>2.670770e+08</td>\n",
       "      <td>(POLYGON ((1042822.450195312 243439.8142089319...</td>\n",
       "      <td>36716</td>\n",
       "      <td>NYC-Bronx Community District 10--Co-op City, P...</td>\n",
       "      <td>36</td>\n",
       "      <td>3703</td>\n",
       "      <td>44329</td>\n",
       "      <td>82.826141</td>\n",
       "      <td>NaN</td>\n",
       "      <td>1305</td>\n",
       "    </tr>\n",
       "    <tr>\n",
       "      <th>3704</th>\n",
       "      <td>3704</td>\n",
       "      <td>47970.900868</td>\n",
       "      <td>1.062129e+08</td>\n",
       "      <td>POLYGON ((1026308.769592285 256767.6972045382,...</td>\n",
       "      <td>32269</td>\n",
       "      <td>NYC-Bronx Community District 11--Pelham Parkwa...</td>\n",
       "      <td>36</td>\n",
       "      <td>3704</td>\n",
       "      <td>44476</td>\n",
       "      <td>72.553737</td>\n",
       "      <td>NaN</td>\n",
       "      <td>1882</td>\n",
       "    </tr>\n",
       "    <tr>\n",
       "      <th>3705</th>\n",
       "      <td>3705</td>\n",
       "      <td>68593.066759</td>\n",
       "      <td>1.224946e+08</td>\n",
       "      <td>POLYGON ((1020080.524597168 255041.8771972096,...</td>\n",
       "      <td>40757</td>\n",
       "      <td>NYC-Bronx Community District 3 &amp; 6--Belmont, C...</td>\n",
       "      <td>36</td>\n",
       "      <td>3705</td>\n",
       "      <td>58706</td>\n",
       "      <td>69.425612</td>\n",
       "      <td>1.0</td>\n",
       "      <td>2011</td>\n",
       "    </tr>\n",
       "    <tr>\n",
       "      <th>3706</th>\n",
       "      <td>3706</td>\n",
       "      <td>51799.404764</td>\n",
       "      <td>4.388687e+07</td>\n",
       "      <td>POLYGON ((1008237.008422854 252471.6857909637,...</td>\n",
       "      <td>34391</td>\n",
       "      <td>NYC-Bronx Community District 7--Bedford Park, ...</td>\n",
       "      <td>36</td>\n",
       "      <td>3706</td>\n",
       "      <td>46018</td>\n",
       "      <td>74.733800</td>\n",
       "      <td>20.0</td>\n",
       "      <td>1274</td>\n",
       "    </tr>\n",
       "    <tr>\n",
       "      <th>3707</th>\n",
       "      <td>3707</td>\n",
       "      <td>37347.926177</td>\n",
       "      <td>4.228113e+07</td>\n",
       "      <td>POLYGON ((1008237.008422854 252471.6857909637,...</td>\n",
       "      <td>32926</td>\n",
       "      <td>NYC-Bronx Community District 5--Morris Heights...</td>\n",
       "      <td>36</td>\n",
       "      <td>3707</td>\n",
       "      <td>46654</td>\n",
       "      <td>70.574870</td>\n",
       "      <td>29.0</td>\n",
       "      <td>1548</td>\n",
       "    </tr>\n",
       "    <tr>\n",
       "      <th>3708</th>\n",
       "      <td>3708</td>\n",
       "      <td>34853.551314</td>\n",
       "      <td>5.589653e+07</td>\n",
       "      <td>POLYGON ((1005060.892822267 247052.5200194765,...</td>\n",
       "      <td>35788</td>\n",
       "      <td>NYC-Bronx Community District 4--Concourse, Hig...</td>\n",
       "      <td>36</td>\n",
       "      <td>3708</td>\n",
       "      <td>50192</td>\n",
       "      <td>71.302200</td>\n",
       "      <td>19.0</td>\n",
       "      <td>1462</td>\n",
       "    </tr>\n",
       "    <tr>\n",
       "      <th>3709</th>\n",
       "      <td>3709</td>\n",
       "      <td>73289.990781</td>\n",
       "      <td>1.241170e+08</td>\n",
       "      <td>(POLYGON ((1029456.00079346 237188.9177855959,...</td>\n",
       "      <td>49253</td>\n",
       "      <td>NYC-Bronx Community District 9--Castle Hill, C...</td>\n",
       "      <td>36</td>\n",
       "      <td>3709</td>\n",
       "      <td>63433</td>\n",
       "      <td>77.645705</td>\n",
       "      <td>NaN</td>\n",
       "      <td>2193</td>\n",
       "    </tr>\n",
       "    <tr>\n",
       "      <th>3710</th>\n",
       "      <td>3710</td>\n",
       "      <td>91116.970113</td>\n",
       "      <td>1.377977e+08</td>\n",
       "      <td>(POLYGON ((1012821.805786134 229228.2645873486...</td>\n",
       "      <td>35410</td>\n",
       "      <td>NYC-Bronx Community District 1 &amp; 2--Hunts Poin...</td>\n",
       "      <td>36</td>\n",
       "      <td>3710</td>\n",
       "      <td>52756</td>\n",
       "      <td>67.120328</td>\n",
       "      <td>19.0</td>\n",
       "      <td>2004</td>\n",
       "    </tr>\n",
       "    <tr>\n",
       "      <th>3801</th>\n",
       "      <td>3801</td>\n",
       "      <td>64053.616621</td>\n",
       "      <td>8.125010e+07</td>\n",
       "      <td>(POLYGON ((1002413.160583497 243934.6171874388...</td>\n",
       "      <td>60998</td>\n",
       "      <td>NYC-Manhattan Community District 12--Washingto...</td>\n",
       "      <td>36</td>\n",
       "      <td>3801</td>\n",
       "      <td>76174</td>\n",
       "      <td>80.077192</td>\n",
       "      <td>17.0</td>\n",
       "      <td>2144</td>\n",
       "    </tr>\n",
       "    <tr>\n",
       "      <th>3802</th>\n",
       "      <td>3802</td>\n",
       "      <td>37925.007815</td>\n",
       "      <td>4.689674e+07</td>\n",
       "      <td>POLYGON ((992248.579589845 232849.4352416464, ...</td>\n",
       "      <td>35902</td>\n",
       "      <td>NYC-Manhattan Community District 9--Hamilton H...</td>\n",
       "      <td>36</td>\n",
       "      <td>3802</td>\n",
       "      <td>44790</td>\n",
       "      <td>80.156285</td>\n",
       "      <td>81.0</td>\n",
       "      <td>1408</td>\n",
       "    </tr>\n",
       "    <tr>\n",
       "      <th>3803</th>\n",
       "      <td>3803</td>\n",
       "      <td>38183.702853</td>\n",
       "      <td>3.984461e+07</td>\n",
       "      <td>POLYGON ((1002388.020996096 243854.5114135148,...</td>\n",
       "      <td>45628</td>\n",
       "      <td>NYC-Manhattan Community District 10--Central H...</td>\n",
       "      <td>36</td>\n",
       "      <td>3803</td>\n",
       "      <td>58217</td>\n",
       "      <td>78.375732</td>\n",
       "      <td>61.0</td>\n",
       "      <td>1362</td>\n",
       "    </tr>\n",
       "    <tr>\n",
       "      <th>3804</th>\n",
       "      <td>3804</td>\n",
       "      <td>62599.502332</td>\n",
       "      <td>6.461210e+07</td>\n",
       "      <td>(POLYGON ((1006028.597595217 231058.796203564,...</td>\n",
       "      <td>39063</td>\n",
       "      <td>NYC-Manhattan Community District 11--East Harl...</td>\n",
       "      <td>36</td>\n",
       "      <td>3804</td>\n",
       "      <td>51915</td>\n",
       "      <td>75.244149</td>\n",
       "      <td>34.0</td>\n",
       "      <td>1429</td>\n",
       "    </tr>\n",
       "    <tr>\n",
       "      <th>3805</th>\n",
       "      <td>3805</td>\n",
       "      <td>53561.205247</td>\n",
       "      <td>5.516891e+07</td>\n",
       "      <td>(POLYGON ((1000370.938598632 219466.6605834413...</td>\n",
       "      <td>102520</td>\n",
       "      <td>NYC-Manhattan Community District 8--Upper East...</td>\n",
       "      <td>36</td>\n",
       "      <td>3805</td>\n",
       "      <td>111507</td>\n",
       "      <td>91.940416</td>\n",
       "      <td>71.0</td>\n",
       "      <td>1787</td>\n",
       "    </tr>\n",
       "    <tr>\n",
       "      <th>3806</th>\n",
       "      <td>3806</td>\n",
       "      <td>47541.579944</td>\n",
       "      <td>8.849735e+07</td>\n",
       "      <td>POLYGON ((989134.7797851576 218858.908019961, ...</td>\n",
       "      <td>89090</td>\n",
       "      <td>NYC-Manhattan Community District 7--Upper West...</td>\n",
       "      <td>36</td>\n",
       "      <td>3806</td>\n",
       "      <td>98941</td>\n",
       "      <td>90.043561</td>\n",
       "      <td>120.0</td>\n",
       "      <td>1491</td>\n",
       "    </tr>\n",
       "    <tr>\n",
       "      <th>3807</th>\n",
       "      <td>3807</td>\n",
       "      <td>72184.180714</td>\n",
       "      <td>8.560315e+07</td>\n",
       "      <td>POLYGON ((989134.7797851557 218858.9078368642,...</td>\n",
       "      <td>73958</td>\n",
       "      <td>NYC-Manhattan Community District 4 &amp; 5--Chelse...</td>\n",
       "      <td>36</td>\n",
       "      <td>3807</td>\n",
       "      <td>81546</td>\n",
       "      <td>90.694823</td>\n",
       "      <td>230.0</td>\n",
       "      <td>1519</td>\n",
       "    </tr>\n",
       "    <tr>\n",
       "      <th>3808</th>\n",
       "      <td>3808</td>\n",
       "      <td>44430.925211</td>\n",
       "      <td>4.498781e+07</td>\n",
       "      <td>(POLYGON ((994681.4056396491 203127.6748046292...</td>\n",
       "      <td>67658</td>\n",
       "      <td>NYC-Manhattan Community District 6--Murray Hil...</td>\n",
       "      <td>36</td>\n",
       "      <td>3808</td>\n",
       "      <td>75794</td>\n",
       "      <td>89.265641</td>\n",
       "      <td>164.0</td>\n",
       "      <td>1238</td>\n",
       "    </tr>\n",
       "    <tr>\n",
       "      <th>3809</th>\n",
       "      <td>3809</td>\n",
       "      <td>35299.802063</td>\n",
       "      <td>4.869226e+07</td>\n",
       "      <td>(POLYGON ((989137.1102294929 196325.4387816848...</td>\n",
       "      <td>41821</td>\n",
       "      <td>NYC-Manhattan Community District 3--Chinatown ...</td>\n",
       "      <td>36</td>\n",
       "      <td>3809</td>\n",
       "      <td>76131</td>\n",
       "      <td>54.932945</td>\n",
       "      <td>62.0</td>\n",
       "      <td>1794</td>\n",
       "    </tr>\n",
       "    <tr>\n",
       "      <th>3810</th>\n",
       "      <td>3810</td>\n",
       "      <td>122322.548613</td>\n",
       "      <td>8.092686e+07</td>\n",
       "      <td>(POLYGON ((981219.0557861336 188655.3157958444...</td>\n",
       "      <td>68171</td>\n",
       "      <td>NYC-Manhattan Community District 1 &amp; 2--Batter...</td>\n",
       "      <td>36</td>\n",
       "      <td>3810</td>\n",
       "      <td>73278</td>\n",
       "      <td>93.030650</td>\n",
       "      <td>30.0</td>\n",
       "      <td>1889</td>\n",
       "    </tr>\n",
       "    <tr>\n",
       "      <th>3901</th>\n",
       "      <td>3901</td>\n",
       "      <td>194765.938002</td>\n",
       "      <td>5.716764e+08</td>\n",
       "      <td>(POLYGON ((970217.0223998993 145643.3322143033...</td>\n",
       "      <td>49039</td>\n",
       "      <td>NYC-Staten Island Community District 3--Totten...</td>\n",
       "      <td>36</td>\n",
       "      <td>3901</td>\n",
       "      <td>57734</td>\n",
       "      <td>84.939550</td>\n",
       "      <td>4.0</td>\n",
       "      <td>2116</td>\n",
       "    </tr>\n",
       "    <tr>\n",
       "      <th>3902</th>\n",
       "      <td>3902</td>\n",
       "      <td>153476.166311</td>\n",
       "      <td>6.760397e+08</td>\n",
       "      <td>POLYGON ((943379.282592776 161026.6152343174, ...</td>\n",
       "      <td>38030</td>\n",
       "      <td>NYC-Staten Island Community District 2--New Sp...</td>\n",
       "      <td>36</td>\n",
       "      <td>3902</td>\n",
       "      <td>47452</td>\n",
       "      <td>80.144146</td>\n",
       "      <td>25.0</td>\n",
       "      <td>2096</td>\n",
       "    </tr>\n",
       "    <tr>\n",
       "      <th>3903</th>\n",
       "      <td>3903</td>\n",
       "      <td>158136.516459</td>\n",
       "      <td>3.761981e+08</td>\n",
       "      <td>(POLYGON ((939997.0947875979 173013.5794066831...</td>\n",
       "      <td>43132</td>\n",
       "      <td>NYC-Staten Island Community District 1--Port R...</td>\n",
       "      <td>36</td>\n",
       "      <td>3903</td>\n",
       "      <td>59103</td>\n",
       "      <td>72.977683</td>\n",
       "      <td>NaN</td>\n",
       "      <td>2680</td>\n",
       "    </tr>\n",
       "    <tr>\n",
       "      <th>4001</th>\n",
       "      <td>4001</td>\n",
       "      <td>74076.370458</td>\n",
       "      <td>1.149292e+08</td>\n",
       "      <td>POLYGON ((996887.8187866226 208559.3403930142,...</td>\n",
       "      <td>46643</td>\n",
       "      <td>NYC-Brooklyn Community District 1--Greenpoint ...</td>\n",
       "      <td>36</td>\n",
       "      <td>4001</td>\n",
       "      <td>66037</td>\n",
       "      <td>70.631616</td>\n",
       "      <td>25.0</td>\n",
       "      <td>2428</td>\n",
       "    </tr>\n",
       "    <tr>\n",
       "      <th>4002</th>\n",
       "      <td>4002</td>\n",
       "      <td>44917.413671</td>\n",
       "      <td>7.068699e+07</td>\n",
       "      <td>POLYGON ((1002957.734436035 197313.963012639, ...</td>\n",
       "      <td>34632</td>\n",
       "      <td>NYC-Brooklyn Community District 4--Bushwick PU...</td>\n",
       "      <td>36</td>\n",
       "      <td>4002</td>\n",
       "      <td>47709</td>\n",
       "      <td>72.590077</td>\n",
       "      <td>1.0</td>\n",
       "      <td>1759</td>\n",
       "    </tr>\n",
       "    <tr>\n",
       "      <th>4003</th>\n",
       "      <td>4003</td>\n",
       "      <td>44724.498848</td>\n",
       "      <td>6.403672e+07</td>\n",
       "      <td>POLYGON ((1000223.919982911 194677.7355956534,...</td>\n",
       "      <td>39511</td>\n",
       "      <td>NYC-Brooklyn Community District 3--Bedford-Stu...</td>\n",
       "      <td>36</td>\n",
       "      <td>4003</td>\n",
       "      <td>52074</td>\n",
       "      <td>75.874717</td>\n",
       "      <td>7.0</td>\n",
       "      <td>2000</td>\n",
       "    </tr>\n",
       "    <tr>\n",
       "      <th>4004</th>\n",
       "      <td>4004</td>\n",
       "      <td>73148.014179</td>\n",
       "      <td>8.663728e+07</td>\n",
       "      <td>POLYGON ((991923.9985961909 197615.7178344189,...</td>\n",
       "      <td>51562</td>\n",
       "      <td>NYC-Brooklyn Community District 2--Brooklyn He...</td>\n",
       "      <td>36</td>\n",
       "      <td>4004</td>\n",
       "      <td>60292</td>\n",
       "      <td>85.520467</td>\n",
       "      <td>39.0</td>\n",
       "      <td>2439</td>\n",
       "    </tr>\n",
       "    <tr>\n",
       "      <th>4005</th>\n",
       "      <td>4005</td>\n",
       "      <td>95474.334642</td>\n",
       "      <td>1.145092e+08</td>\n",
       "      <td>POLYGON ((992656.6069946286 185330.0338134199,...</td>\n",
       "      <td>41578</td>\n",
       "      <td>NYC-Brooklyn Community District 6--Park Slope,...</td>\n",
       "      <td>36</td>\n",
       "      <td>4005</td>\n",
       "      <td>46522</td>\n",
       "      <td>89.372770</td>\n",
       "      <td>31.0</td>\n",
       "      <td>1829</td>\n",
       "    </tr>\n",
       "    <tr>\n",
       "      <th>4006</th>\n",
       "      <td>4006</td>\n",
       "      <td>42556.633208</td>\n",
       "      <td>6.184937e+07</td>\n",
       "      <td>POLYGON ((992656.6069946286 185330.0338134199,...</td>\n",
       "      <td>45162</td>\n",
       "      <td>NYC-Brooklyn Community District 8--Crown Heigh...</td>\n",
       "      <td>36</td>\n",
       "      <td>4006</td>\n",
       "      <td>56005</td>\n",
       "      <td>80.639229</td>\n",
       "      <td>33.0</td>\n",
       "      <td>1846</td>\n",
       "    </tr>\n",
       "    <tr>\n",
       "      <th>4007</th>\n",
       "      <td>4007</td>\n",
       "      <td>44862.448660</td>\n",
       "      <td>7.220681e+07</td>\n",
       "      <td>POLYGON ((1011097.269592285 186574.8106078566,...</td>\n",
       "      <td>30110</td>\n",
       "      <td>NYC-Brooklyn Community District 16--Brownsvill...</td>\n",
       "      <td>36</td>\n",
       "      <td>4007</td>\n",
       "      <td>42579</td>\n",
       "      <td>70.715611</td>\n",
       "      <td>9.0</td>\n",
       "      <td>1521</td>\n",
       "    </tr>\n",
       "    <tr>\n",
       "      <th>4008</th>\n",
       "      <td>4008</td>\n",
       "      <td>98346.817408</td>\n",
       "      <td>1.643642e+08</td>\n",
       "      <td>(POLYGON ((1015251.087036134 174914.5614013166...</td>\n",
       "      <td>41946</td>\n",
       "      <td>NYC-Brooklyn Community District 5--East New Yo...</td>\n",
       "      <td>36</td>\n",
       "      <td>4008</td>\n",
       "      <td>54506</td>\n",
       "      <td>76.956665</td>\n",
       "      <td>12.0</td>\n",
       "      <td>2229</td>\n",
       "    </tr>\n",
       "    <tr>\n",
       "      <th>4009</th>\n",
       "      <td>4009</td>\n",
       "      <td>379689.225877</td>\n",
       "      <td>3.469580e+08</td>\n",
       "      <td>(POLYGON ((1007822.043395995 152881.587585393,...</td>\n",
       "      <td>57622</td>\n",
       "      <td>NYC-Brooklyn Community District 18--Canarsie &amp;...</td>\n",
       "      <td>36</td>\n",
       "      <td>4009</td>\n",
       "      <td>65735</td>\n",
       "      <td>87.658021</td>\n",
       "      <td>NaN</td>\n",
       "      <td>4001</td>\n",
       "    </tr>\n",
       "    <tr>\n",
       "      <th>4010</th>\n",
       "      <td>4010</td>\n",
       "      <td>49993.274837</td>\n",
       "      <td>8.590867e+07</td>\n",
       "      <td>POLYGON ((1006386.648193361 179733.319396925, ...</td>\n",
       "      <td>39234</td>\n",
       "      <td>NYC-Brooklyn Community District 17--East Flatb...</td>\n",
       "      <td>36</td>\n",
       "      <td>4010</td>\n",
       "      <td>50017</td>\n",
       "      <td>78.441330</td>\n",
       "      <td>10.0</td>\n",
       "      <td>2218</td>\n",
       "    </tr>\n",
       "    <tr>\n",
       "      <th>4011</th>\n",
       "      <td>4011</td>\n",
       "      <td>34983.357777</td>\n",
       "      <td>4.763299e+07</td>\n",
       "      <td>POLYGON ((994756.0137939445 180903.2802123448,...</td>\n",
       "      <td>31552</td>\n",
       "      <td>NYC-Brooklyn Community District 9--Crown Heigh...</td>\n",
       "      <td>36</td>\n",
       "      <td>4011</td>\n",
       "      <td>42176</td>\n",
       "      <td>74.810319</td>\n",
       "      <td>16.0</td>\n",
       "      <td>1384</td>\n",
       "    </tr>\n",
       "    <tr>\n",
       "      <th>4012</th>\n",
       "      <td>4012</td>\n",
       "      <td>98467.272192</td>\n",
       "      <td>1.123333e+08</td>\n",
       "      <td>POLYGON ((985125.2537841813 183022.5671996485,...</td>\n",
       "      <td>35141</td>\n",
       "      <td>NYC-Brooklyn Community District 7--Sunset Park...</td>\n",
       "      <td>36</td>\n",
       "      <td>4012</td>\n",
       "      <td>45627</td>\n",
       "      <td>77.017994</td>\n",
       "      <td>11.0</td>\n",
       "      <td>2203</td>\n",
       "    </tr>\n",
       "    <tr>\n",
       "      <th>4013</th>\n",
       "      <td>4013</td>\n",
       "      <td>48173.165611</td>\n",
       "      <td>1.069977e+08</td>\n",
       "      <td>POLYGON ((976227.2103881798 172874.4639891978,...</td>\n",
       "      <td>39555</td>\n",
       "      <td>NYC-Brooklyn Community District 10--Bay Ridge ...</td>\n",
       "      <td>36</td>\n",
       "      <td>4013</td>\n",
       "      <td>45191</td>\n",
       "      <td>87.528490</td>\n",
       "      <td>NaN</td>\n",
       "      <td>2339</td>\n",
       "    </tr>\n",
       "    <tr>\n",
       "      <th>4014</th>\n",
       "      <td>4014</td>\n",
       "      <td>51089.072851</td>\n",
       "      <td>8.768042e+07</td>\n",
       "      <td>POLYGON ((992495.7709960932 171137.7659911588,...</td>\n",
       "      <td>27834</td>\n",
       "      <td>NYC-Brooklyn Community District 12--Borough Pa...</td>\n",
       "      <td>36</td>\n",
       "      <td>4014</td>\n",
       "      <td>42114</td>\n",
       "      <td>66.092036</td>\n",
       "      <td>NaN</td>\n",
       "      <td>2928</td>\n",
       "    </tr>\n",
       "    <tr>\n",
       "      <th>4015</th>\n",
       "      <td>4015</td>\n",
       "      <td>50007.415373</td>\n",
       "      <td>8.105438e+07</td>\n",
       "      <td>POLYGON ((997086.4570312516 171933.9880370507,...</td>\n",
       "      <td>44079</td>\n",
       "      <td>NYC-Brooklyn Community District 14--Flatbush &amp;...</td>\n",
       "      <td>36</td>\n",
       "      <td>4015</td>\n",
       "      <td>55953</td>\n",
       "      <td>78.778618</td>\n",
       "      <td>3.0</td>\n",
       "      <td>2515</td>\n",
       "    </tr>\n",
       "    <tr>\n",
       "      <th>4016</th>\n",
       "      <td>4016</td>\n",
       "      <td>109477.751822</td>\n",
       "      <td>1.207135e+08</td>\n",
       "      <td>POLYGON ((999782.7833862281 162246.8424071733,...</td>\n",
       "      <td>49702</td>\n",
       "      <td>NYC-Brooklyn Community District 15--Sheepshead...</td>\n",
       "      <td>36</td>\n",
       "      <td>4016</td>\n",
       "      <td>58343</td>\n",
       "      <td>85.189311</td>\n",
       "      <td>NaN</td>\n",
       "      <td>2926</td>\n",
       "    </tr>\n",
       "    <tr>\n",
       "      <th>4017</th>\n",
       "      <td>4017</td>\n",
       "      <td>48998.334128</td>\n",
       "      <td>1.029831e+08</td>\n",
       "      <td>POLYGON ((986318.1619873034 166716.416809032, ...</td>\n",
       "      <td>53428</td>\n",
       "      <td>NYC-Brooklyn Community District 11--Bensonhurs...</td>\n",
       "      <td>36</td>\n",
       "      <td>4017</td>\n",
       "      <td>63963</td>\n",
       "      <td>83.529541</td>\n",
       "      <td>NaN</td>\n",
       "      <td>3375</td>\n",
       "    </tr>\n",
       "    <tr>\n",
       "      <th>4018</th>\n",
       "      <td>4018</td>\n",
       "      <td>76143.432445</td>\n",
       "      <td>9.599590e+07</td>\n",
       "      <td>POLYGON ((992169.2720336927 156843.405395455, ...</td>\n",
       "      <td>37294</td>\n",
       "      <td>NYC-Brooklyn Community District 13--Brighton B...</td>\n",
       "      <td>36</td>\n",
       "      <td>4018</td>\n",
       "      <td>47028</td>\n",
       "      <td>79.301693</td>\n",
       "      <td>NaN</td>\n",
       "      <td>1549</td>\n",
       "    </tr>\n",
       "    <tr>\n",
       "      <th>4101</th>\n",
       "      <td>4101</td>\n",
       "      <td>70492.955226</td>\n",
       "      <td>1.432420e+08</td>\n",
       "      <td>POLYGON ((1010148.11859131 227175.0521850089, ...</td>\n",
       "      <td>60273</td>\n",
       "      <td>NYC-Queens Community District 1--Astoria &amp; Lon...</td>\n",
       "      <td>36</td>\n",
       "      <td>4101</td>\n",
       "      <td>72177</td>\n",
       "      <td>83.507211</td>\n",
       "      <td>48.0</td>\n",
       "      <td>2816</td>\n",
       "    </tr>\n",
       "    <tr>\n",
       "      <th>4102</th>\n",
       "      <td>4102</td>\n",
       "      <td>62651.697746</td>\n",
       "      <td>1.171050e+08</td>\n",
       "      <td>(POLYGON ((1014692.48742676 221148.8715819768,...</td>\n",
       "      <td>38714</td>\n",
       "      <td>NYC-Queens Community District 3--Jackson Heigh...</td>\n",
       "      <td>36</td>\n",
       "      <td>4102</td>\n",
       "      <td>49036</td>\n",
       "      <td>78.950159</td>\n",
       "      <td>19.0</td>\n",
       "      <td>2149</td>\n",
       "    </tr>\n",
       "    <tr>\n",
       "      <th>4103</th>\n",
       "      <td>4103</td>\n",
       "      <td>144130.150573</td>\n",
       "      <td>3.298603e+08</td>\n",
       "      <td>(POLYGON ((1020835.195190431 226161.3425902778...</td>\n",
       "      <td>61573</td>\n",
       "      <td>NYC-Queens Community District 7--Flushing, Mur...</td>\n",
       "      <td>36</td>\n",
       "      <td>4103</td>\n",
       "      <td>84004</td>\n",
       "      <td>73.297700</td>\n",
       "      <td>NaN</td>\n",
       "      <td>3676</td>\n",
       "    </tr>\n",
       "    <tr>\n",
       "      <th>4104</th>\n",
       "      <td>4104</td>\n",
       "      <td>99229.955385</td>\n",
       "      <td>2.605320e+08</td>\n",
       "      <td>POLYGON ((1055302.830200197 222915.1177977964,...</td>\n",
       "      <td>36489</td>\n",
       "      <td>NYC-Queens Community District 11--Bayside, Dou...</td>\n",
       "      <td>36</td>\n",
       "      <td>4104</td>\n",
       "      <td>42003</td>\n",
       "      <td>86.872366</td>\n",
       "      <td>NaN</td>\n",
       "      <td>2156</td>\n",
       "    </tr>\n",
       "    <tr>\n",
       "      <th>4105</th>\n",
       "      <td>4105</td>\n",
       "      <td>205312.258233</td>\n",
       "      <td>5.497137e+08</td>\n",
       "      <td>POLYGON ((1060088.978637697 193289.2362059999,...</td>\n",
       "      <td>50951</td>\n",
       "      <td>NYC-Queens Community District 13--Queens Villa...</td>\n",
       "      <td>36</td>\n",
       "      <td>4105</td>\n",
       "      <td>58924</td>\n",
       "      <td>86.469011</td>\n",
       "      <td>NaN</td>\n",
       "      <td>3674</td>\n",
       "    </tr>\n",
       "    <tr>\n",
       "      <th>4106</th>\n",
       "      <td>4106</td>\n",
       "      <td>79710.157878</td>\n",
       "      <td>2.072137e+08</td>\n",
       "      <td>POLYGON ((1034006.05279541 198020.8815917409, ...</td>\n",
       "      <td>46272</td>\n",
       "      <td>NYC-Queens Community District 8--Briarwood, Fr...</td>\n",
       "      <td>36</td>\n",
       "      <td>4106</td>\n",
       "      <td>54605</td>\n",
       "      <td>84.739493</td>\n",
       "      <td>NaN</td>\n",
       "      <td>2286</td>\n",
       "    </tr>\n",
       "    <tr>\n",
       "      <th>4107</th>\n",
       "      <td>4107</td>\n",
       "      <td>99947.733306</td>\n",
       "      <td>1.075122e+08</td>\n",
       "      <td>POLYGON ((1023873.126586914 217682.0093993596,...</td>\n",
       "      <td>31700</td>\n",
       "      <td>NYC-Queens Community District 4--Elmhurst &amp; So...</td>\n",
       "      <td>36</td>\n",
       "      <td>4107</td>\n",
       "      <td>40473</td>\n",
       "      <td>78.323821</td>\n",
       "      <td>29.0</td>\n",
       "      <td>1641</td>\n",
       "    </tr>\n",
       "    <tr>\n",
       "      <th>4108</th>\n",
       "      <td>4108</td>\n",
       "      <td>37997.476719</td>\n",
       "      <td>7.776948e+07</td>\n",
       "      <td>POLYGON ((1023565.041625978 198563.225402779, ...</td>\n",
       "      <td>43731</td>\n",
       "      <td>NYC-Queens Community District 6--Forest Hills ...</td>\n",
       "      <td>36</td>\n",
       "      <td>4108</td>\n",
       "      <td>51169</td>\n",
       "      <td>85.463855</td>\n",
       "      <td>24.0</td>\n",
       "      <td>1689</td>\n",
       "    </tr>\n",
       "    <tr>\n",
       "      <th>4109</th>\n",
       "      <td>4109</td>\n",
       "      <td>95285.371730</td>\n",
       "      <td>1.669799e+08</td>\n",
       "      <td>POLYGON ((1011466.965820315 216463.0051879297,...</td>\n",
       "      <td>44737</td>\n",
       "      <td>NYC-Queens Community District 2--Sunnyside &amp; W...</td>\n",
       "      <td>36</td>\n",
       "      <td>4109</td>\n",
       "      <td>52591</td>\n",
       "      <td>85.065886</td>\n",
       "      <td>51.0</td>\n",
       "      <td>1896</td>\n",
       "    </tr>\n",
       "    <tr>\n",
       "      <th>4110</th>\n",
       "      <td>4110</td>\n",
       "      <td>71251.084697</td>\n",
       "      <td>2.050472e+08</td>\n",
       "      <td>POLYGON ((1012564.178039551 207131.8432006318,...</td>\n",
       "      <td>50844</td>\n",
       "      <td>NYC-Queens Community District 5--Ridgewood, Gl...</td>\n",
       "      <td>36</td>\n",
       "      <td>4110</td>\n",
       "      <td>61570</td>\n",
       "      <td>82.579178</td>\n",
       "      <td>NaN</td>\n",
       "      <td>3259</td>\n",
       "    </tr>\n",
       "    <tr>\n",
       "      <th>4111</th>\n",
       "      <td>4111</td>\n",
       "      <td>56323.013991</td>\n",
       "      <td>1.326035e+08</td>\n",
       "      <td>POLYGON ((1034127.110595705 197845.3756103024,...</td>\n",
       "      <td>37570</td>\n",
       "      <td>NYC-Queens Community District 9--Richmond Hill...</td>\n",
       "      <td>36</td>\n",
       "      <td>4111</td>\n",
       "      <td>44811</td>\n",
       "      <td>83.841021</td>\n",
       "      <td>40.0</td>\n",
       "      <td>3124</td>\n",
       "    </tr>\n",
       "    <tr>\n",
       "      <th>4112</th>\n",
       "      <td>4112</td>\n",
       "      <td>72781.304161</td>\n",
       "      <td>2.600517e+08</td>\n",
       "      <td>POLYGON ((1051539.660400391 201007.0130004351,...</td>\n",
       "      <td>54603</td>\n",
       "      <td>NYC-Queens Community District 12--Jamaica, Hol...</td>\n",
       "      <td>36</td>\n",
       "      <td>4112</td>\n",
       "      <td>71109</td>\n",
       "      <td>76.787748</td>\n",
       "      <td>18.0</td>\n",
       "      <td>3940</td>\n",
       "    </tr>\n",
       "    <tr>\n",
       "      <th>4113</th>\n",
       "      <td>4113</td>\n",
       "      <td>110717.942782</td>\n",
       "      <td>1.714665e+08</td>\n",
       "      <td>(POLYGON ((1023868.74719238 176222.7232055122,...</td>\n",
       "      <td>32506</td>\n",
       "      <td>NYC-Queens Community District 10--Howard Beach...</td>\n",
       "      <td>36</td>\n",
       "      <td>4113</td>\n",
       "      <td>37998</td>\n",
       "      <td>85.546608</td>\n",
       "      <td>NaN</td>\n",
       "      <td>2162</td>\n",
       "    </tr>\n",
       "    <tr>\n",
       "      <th>4114</th>\n",
       "      <td>4114</td>\n",
       "      <td>412606.741712</td>\n",
       "      <td>3.156828e+08</td>\n",
       "      <td>(POLYGON ((1029606.076599121 156073.8142089235...</td>\n",
       "      <td>32172</td>\n",
       "      <td>NYC-Queens Community District 14--Far Rockaway...</td>\n",
       "      <td>36</td>\n",
       "      <td>4114</td>\n",
       "      <td>41368</td>\n",
       "      <td>77.770257</td>\n",
       "      <td>NaN</td>\n",
       "      <td>1559</td>\n",
       "    </tr>\n",
       "  </tbody>\n",
       "</table>\n",
       "</div>"
      ],
      "text/plain": [
       "      puma     shape_leng    shape_area  \\\n",
       "puma                                      \n",
       "3701  3701   53227.144376  9.792852e+07   \n",
       "3702  3702  106050.008344  1.889860e+08   \n",
       "3703  3703  304875.033427  2.670770e+08   \n",
       "3704  3704   47970.900868  1.062129e+08   \n",
       "3705  3705   68593.066759  1.224946e+08   \n",
       "3706  3706   51799.404764  4.388687e+07   \n",
       "3707  3707   37347.926177  4.228113e+07   \n",
       "3708  3708   34853.551314  5.589653e+07   \n",
       "3709  3709   73289.990781  1.241170e+08   \n",
       "3710  3710   91116.970113  1.377977e+08   \n",
       "3801  3801   64053.616621  8.125010e+07   \n",
       "3802  3802   37925.007815  4.689674e+07   \n",
       "3803  3803   38183.702853  3.984461e+07   \n",
       "3804  3804   62599.502332  6.461210e+07   \n",
       "3805  3805   53561.205247  5.516891e+07   \n",
       "3806  3806   47541.579944  8.849735e+07   \n",
       "3807  3807   72184.180714  8.560315e+07   \n",
       "3808  3808   44430.925211  4.498781e+07   \n",
       "3809  3809   35299.802063  4.869226e+07   \n",
       "3810  3810  122322.548613  8.092686e+07   \n",
       "3901  3901  194765.938002  5.716764e+08   \n",
       "3902  3902  153476.166311  6.760397e+08   \n",
       "3903  3903  158136.516459  3.761981e+08   \n",
       "4001  4001   74076.370458  1.149292e+08   \n",
       "4002  4002   44917.413671  7.068699e+07   \n",
       "4003  4003   44724.498848  6.403672e+07   \n",
       "4004  4004   73148.014179  8.663728e+07   \n",
       "4005  4005   95474.334642  1.145092e+08   \n",
       "4006  4006   42556.633208  6.184937e+07   \n",
       "4007  4007   44862.448660  7.220681e+07   \n",
       "4008  4008   98346.817408  1.643642e+08   \n",
       "4009  4009  379689.225877  3.469580e+08   \n",
       "4010  4010   49993.274837  8.590867e+07   \n",
       "4011  4011   34983.357777  4.763299e+07   \n",
       "4012  4012   98467.272192  1.123333e+08   \n",
       "4013  4013   48173.165611  1.069977e+08   \n",
       "4014  4014   51089.072851  8.768042e+07   \n",
       "4015  4015   50007.415373  8.105438e+07   \n",
       "4016  4016  109477.751822  1.207135e+08   \n",
       "4017  4017   48998.334128  1.029831e+08   \n",
       "4018  4018   76143.432445  9.599590e+07   \n",
       "4101  4101   70492.955226  1.432420e+08   \n",
       "4102  4102   62651.697746  1.171050e+08   \n",
       "4103  4103  144130.150573  3.298603e+08   \n",
       "4104  4104   99229.955385  2.605320e+08   \n",
       "4105  4105  205312.258233  5.497137e+08   \n",
       "4106  4106   79710.157878  2.072137e+08   \n",
       "4107  4107   99947.733306  1.075122e+08   \n",
       "4108  4108   37997.476719  7.776948e+07   \n",
       "4109  4109   95285.371730  1.669799e+08   \n",
       "4110  4110   71251.084697  2.050472e+08   \n",
       "4111  4111   56323.013991  1.326035e+08   \n",
       "4112  4112   72781.304161  2.600517e+08   \n",
       "4113  4113  110717.942782  1.714665e+08   \n",
       "4114  4114  412606.741712  3.156828e+08   \n",
       "\n",
       "                                               geometry  B28002_004E  \\\n",
       "puma                                                                   \n",
       "3701  POLYGON ((1012885.033996583 268830.4841918442,...        35529   \n",
       "3702  POLYGON ((1021632.335632326 267934.4393920284,...        34030   \n",
       "3703  (POLYGON ((1042822.450195312 243439.8142089319...        36716   \n",
       "3704  POLYGON ((1026308.769592285 256767.6972045382,...        32269   \n",
       "3705  POLYGON ((1020080.524597168 255041.8771972096,...        40757   \n",
       "3706  POLYGON ((1008237.008422854 252471.6857909637,...        34391   \n",
       "3707  POLYGON ((1008237.008422854 252471.6857909637,...        32926   \n",
       "3708  POLYGON ((1005060.892822267 247052.5200194765,...        35788   \n",
       "3709  (POLYGON ((1029456.00079346 237188.9177855959,...        49253   \n",
       "3710  (POLYGON ((1012821.805786134 229228.2645873486...        35410   \n",
       "3801  (POLYGON ((1002413.160583497 243934.6171874388...        60998   \n",
       "3802  POLYGON ((992248.579589845 232849.4352416464, ...        35902   \n",
       "3803  POLYGON ((1002388.020996096 243854.5114135148,...        45628   \n",
       "3804  (POLYGON ((1006028.597595217 231058.796203564,...        39063   \n",
       "3805  (POLYGON ((1000370.938598632 219466.6605834413...       102520   \n",
       "3806  POLYGON ((989134.7797851576 218858.908019961, ...        89090   \n",
       "3807  POLYGON ((989134.7797851557 218858.9078368642,...        73958   \n",
       "3808  (POLYGON ((994681.4056396491 203127.6748046292...        67658   \n",
       "3809  (POLYGON ((989137.1102294929 196325.4387816848...        41821   \n",
       "3810  (POLYGON ((981219.0557861336 188655.3157958444...        68171   \n",
       "3901  (POLYGON ((970217.0223998993 145643.3322143033...        49039   \n",
       "3902  POLYGON ((943379.282592776 161026.6152343174, ...        38030   \n",
       "3903  (POLYGON ((939997.0947875979 173013.5794066831...        43132   \n",
       "4001  POLYGON ((996887.8187866226 208559.3403930142,...        46643   \n",
       "4002  POLYGON ((1002957.734436035 197313.963012639, ...        34632   \n",
       "4003  POLYGON ((1000223.919982911 194677.7355956534,...        39511   \n",
       "4004  POLYGON ((991923.9985961909 197615.7178344189,...        51562   \n",
       "4005  POLYGON ((992656.6069946286 185330.0338134199,...        41578   \n",
       "4006  POLYGON ((992656.6069946286 185330.0338134199,...        45162   \n",
       "4007  POLYGON ((1011097.269592285 186574.8106078566,...        30110   \n",
       "4008  (POLYGON ((1015251.087036134 174914.5614013166...        41946   \n",
       "4009  (POLYGON ((1007822.043395995 152881.587585393,...        57622   \n",
       "4010  POLYGON ((1006386.648193361 179733.319396925, ...        39234   \n",
       "4011  POLYGON ((994756.0137939445 180903.2802123448,...        31552   \n",
       "4012  POLYGON ((985125.2537841813 183022.5671996485,...        35141   \n",
       "4013  POLYGON ((976227.2103881798 172874.4639891978,...        39555   \n",
       "4014  POLYGON ((992495.7709960932 171137.7659911588,...        27834   \n",
       "4015  POLYGON ((997086.4570312516 171933.9880370507,...        44079   \n",
       "4016  POLYGON ((999782.7833862281 162246.8424071733,...        49702   \n",
       "4017  POLYGON ((986318.1619873034 166716.416809032, ...        53428   \n",
       "4018  POLYGON ((992169.2720336927 156843.405395455, ...        37294   \n",
       "4101  POLYGON ((1010148.11859131 227175.0521850089, ...        60273   \n",
       "4102  (POLYGON ((1014692.48742676 221148.8715819768,...        38714   \n",
       "4103  (POLYGON ((1020835.195190431 226161.3425902778...        61573   \n",
       "4104  POLYGON ((1055302.830200197 222915.1177977964,...        36489   \n",
       "4105  POLYGON ((1060088.978637697 193289.2362059999,...        50951   \n",
       "4106  POLYGON ((1034006.05279541 198020.8815917409, ...        46272   \n",
       "4107  POLYGON ((1023873.126586914 217682.0093993596,...        31700   \n",
       "4108  POLYGON ((1023565.041625978 198563.225402779, ...        43731   \n",
       "4109  POLYGON ((1011466.965820315 216463.0051879297,...        44737   \n",
       "4110  POLYGON ((1012564.178039551 207131.8432006318,...        50844   \n",
       "4111  POLYGON ((1034127.110595705 197845.3756103024,...        37570   \n",
       "4112  POLYGON ((1051539.660400391 201007.0130004351,...        54603   \n",
       "4113  (POLYGON ((1023868.74719238 176222.7232055122,...        32506   \n",
       "4114  (POLYGON ((1029606.076599121 156073.8142089235...        32172   \n",
       "\n",
       "                                                   NAME  state  \\\n",
       "puma                                                             \n",
       "3701  NYC-Bronx Community District 8--Riverdale, Fie...     36   \n",
       "3702  NYC-Bronx Community District 12--Wakefield, Wi...     36   \n",
       "3703  NYC-Bronx Community District 10--Co-op City, P...     36   \n",
       "3704  NYC-Bronx Community District 11--Pelham Parkwa...     36   \n",
       "3705  NYC-Bronx Community District 3 & 6--Belmont, C...     36   \n",
       "3706  NYC-Bronx Community District 7--Bedford Park, ...     36   \n",
       "3707  NYC-Bronx Community District 5--Morris Heights...     36   \n",
       "3708  NYC-Bronx Community District 4--Concourse, Hig...     36   \n",
       "3709  NYC-Bronx Community District 9--Castle Hill, C...     36   \n",
       "3710  NYC-Bronx Community District 1 & 2--Hunts Poin...     36   \n",
       "3801  NYC-Manhattan Community District 12--Washingto...     36   \n",
       "3802  NYC-Manhattan Community District 9--Hamilton H...     36   \n",
       "3803  NYC-Manhattan Community District 10--Central H...     36   \n",
       "3804  NYC-Manhattan Community District 11--East Harl...     36   \n",
       "3805  NYC-Manhattan Community District 8--Upper East...     36   \n",
       "3806  NYC-Manhattan Community District 7--Upper West...     36   \n",
       "3807  NYC-Manhattan Community District 4 & 5--Chelse...     36   \n",
       "3808  NYC-Manhattan Community District 6--Murray Hil...     36   \n",
       "3809  NYC-Manhattan Community District 3--Chinatown ...     36   \n",
       "3810  NYC-Manhattan Community District 1 & 2--Batter...     36   \n",
       "3901  NYC-Staten Island Community District 3--Totten...     36   \n",
       "3902  NYC-Staten Island Community District 2--New Sp...     36   \n",
       "3903  NYC-Staten Island Community District 1--Port R...     36   \n",
       "4001  NYC-Brooklyn Community District 1--Greenpoint ...     36   \n",
       "4002  NYC-Brooklyn Community District 4--Bushwick PU...     36   \n",
       "4003  NYC-Brooklyn Community District 3--Bedford-Stu...     36   \n",
       "4004  NYC-Brooklyn Community District 2--Brooklyn He...     36   \n",
       "4005  NYC-Brooklyn Community District 6--Park Slope,...     36   \n",
       "4006  NYC-Brooklyn Community District 8--Crown Heigh...     36   \n",
       "4007  NYC-Brooklyn Community District 16--Brownsvill...     36   \n",
       "4008  NYC-Brooklyn Community District 5--East New Yo...     36   \n",
       "4009  NYC-Brooklyn Community District 18--Canarsie &...     36   \n",
       "4010  NYC-Brooklyn Community District 17--East Flatb...     36   \n",
       "4011  NYC-Brooklyn Community District 9--Crown Heigh...     36   \n",
       "4012  NYC-Brooklyn Community District 7--Sunset Park...     36   \n",
       "4013  NYC-Brooklyn Community District 10--Bay Ridge ...     36   \n",
       "4014  NYC-Brooklyn Community District 12--Borough Pa...     36   \n",
       "4015  NYC-Brooklyn Community District 14--Flatbush &...     36   \n",
       "4016  NYC-Brooklyn Community District 15--Sheepshead...     36   \n",
       "4017  NYC-Brooklyn Community District 11--Bensonhurs...     36   \n",
       "4018  NYC-Brooklyn Community District 13--Brighton B...     36   \n",
       "4101  NYC-Queens Community District 1--Astoria & Lon...     36   \n",
       "4102  NYC-Queens Community District 3--Jackson Heigh...     36   \n",
       "4103  NYC-Queens Community District 7--Flushing, Mur...     36   \n",
       "4104  NYC-Queens Community District 11--Bayside, Dou...     36   \n",
       "4105  NYC-Queens Community District 13--Queens Villa...     36   \n",
       "4106  NYC-Queens Community District 8--Briarwood, Fr...     36   \n",
       "4107  NYC-Queens Community District 4--Elmhurst & So...     36   \n",
       "4108  NYC-Queens Community District 6--Forest Hills ...     36   \n",
       "4109  NYC-Queens Community District 2--Sunnyside & W...     36   \n",
       "4110  NYC-Queens Community District 5--Ridgewood, Gl...     36   \n",
       "4111  NYC-Queens Community District 9--Richmond Hill...     36   \n",
       "4112  NYC-Queens Community District 12--Jamaica, Hol...     36   \n",
       "4113  NYC-Queens Community District 10--Howard Beach...     36   \n",
       "4114  NYC-Queens Community District 14--Far Rockaway...     36   \n",
       "\n",
       "      public use microdata area  B28002_001E       pcBB  link_site  population  \n",
       "puma                                                                            \n",
       "3701                       3701        42158  84.275820        1.0        1517  \n",
       "3702                       3702        49817  68.310015        NaN        1959  \n",
       "3703                       3703        44329  82.826141        NaN        1305  \n",
       "3704                       3704        44476  72.553737        NaN        1882  \n",
       "3705                       3705        58706  69.425612        1.0        2011  \n",
       "3706                       3706        46018  74.733800       20.0        1274  \n",
       "3707                       3707        46654  70.574870       29.0        1548  \n",
       "3708                       3708        50192  71.302200       19.0        1462  \n",
       "3709                       3709        63433  77.645705        NaN        2193  \n",
       "3710                       3710        52756  67.120328       19.0        2004  \n",
       "3801                       3801        76174  80.077192       17.0        2144  \n",
       "3802                       3802        44790  80.156285       81.0        1408  \n",
       "3803                       3803        58217  78.375732       61.0        1362  \n",
       "3804                       3804        51915  75.244149       34.0        1429  \n",
       "3805                       3805       111507  91.940416       71.0        1787  \n",
       "3806                       3806        98941  90.043561      120.0        1491  \n",
       "3807                       3807        81546  90.694823      230.0        1519  \n",
       "3808                       3808        75794  89.265641      164.0        1238  \n",
       "3809                       3809        76131  54.932945       62.0        1794  \n",
       "3810                       3810        73278  93.030650       30.0        1889  \n",
       "3901                       3901        57734  84.939550        4.0        2116  \n",
       "3902                       3902        47452  80.144146       25.0        2096  \n",
       "3903                       3903        59103  72.977683        NaN        2680  \n",
       "4001                       4001        66037  70.631616       25.0        2428  \n",
       "4002                       4002        47709  72.590077        1.0        1759  \n",
       "4003                       4003        52074  75.874717        7.0        2000  \n",
       "4004                       4004        60292  85.520467       39.0        2439  \n",
       "4005                       4005        46522  89.372770       31.0        1829  \n",
       "4006                       4006        56005  80.639229       33.0        1846  \n",
       "4007                       4007        42579  70.715611        9.0        1521  \n",
       "4008                       4008        54506  76.956665       12.0        2229  \n",
       "4009                       4009        65735  87.658021        NaN        4001  \n",
       "4010                       4010        50017  78.441330       10.0        2218  \n",
       "4011                       4011        42176  74.810319       16.0        1384  \n",
       "4012                       4012        45627  77.017994       11.0        2203  \n",
       "4013                       4013        45191  87.528490        NaN        2339  \n",
       "4014                       4014        42114  66.092036        NaN        2928  \n",
       "4015                       4015        55953  78.778618        3.0        2515  \n",
       "4016                       4016        58343  85.189311        NaN        2926  \n",
       "4017                       4017        63963  83.529541        NaN        3375  \n",
       "4018                       4018        47028  79.301693        NaN        1549  \n",
       "4101                       4101        72177  83.507211       48.0        2816  \n",
       "4102                       4102        49036  78.950159       19.0        2149  \n",
       "4103                       4103        84004  73.297700        NaN        3676  \n",
       "4104                       4104        42003  86.872366        NaN        2156  \n",
       "4105                       4105        58924  86.469011        NaN        3674  \n",
       "4106                       4106        54605  84.739493        NaN        2286  \n",
       "4107                       4107        40473  78.323821       29.0        1641  \n",
       "4108                       4108        51169  85.463855       24.0        1689  \n",
       "4109                       4109        52591  85.065886       51.0        1896  \n",
       "4110                       4110        61570  82.579178        NaN        3259  \n",
       "4111                       4111        44811  83.841021       40.0        3124  \n",
       "4112                       4112        71109  76.787748       18.0        3940  \n",
       "4113                       4113        37998  85.546608        NaN        2162  \n",
       "4114                       4114        41368  77.770257        NaN        1559  "
      ]
     },
     "execution_count": 82,
     "metadata": {},
     "output_type": "execute_result"
    }
   ],
   "source": [
    "pumashp"
   ]
  },
  {
   "cell_type": "code",
   "execution_count": 83,
   "metadata": {
    "collapsed": true
   },
   "outputs": [],
   "source": [
    "pumashplc = pumashp\n",
    "pumashplc[\"linkNYCp100p\"] = pumashplc.link_site / pumashplc.population * 100"
   ]
  },
  {
   "cell_type": "code",
   "execution_count": 84,
   "metadata": {},
   "outputs": [
    {
     "data": {
      "text/plain": [
       "count    37.000000\n",
       "mean      2.327677\n",
       "std       3.328955\n",
       "min       0.049727\n",
       "25%       0.538358\n",
       "50%       1.299590\n",
       "75%       1.873385\n",
       "max      15.141540\n",
       "Name: linkNYCp100p, dtype: float64"
      ]
     },
     "execution_count": 84,
     "metadata": {},
     "output_type": "execute_result"
    }
   ],
   "source": [
    "#linkNYC per 100 inhabitants\n",
    "pumashplc[\"linkNYCp100p\"].describe()"
   ]
  },
  {
   "cell_type": "markdown",
   "metadata": {},
   "source": [
    "# at last, plot the linkNYC locations on top of a choropleth of number of stations per 100 people  in 10 equal intervals\n"
   ]
  },
  {
   "cell_type": "code",
   "execution_count": 99,
   "metadata": {},
   "outputs": [
    {
     "data": {
      "image/png": "[encoded data removed]",
      "text/plain": [
       "<matplotlib.figure.Figure at 0x26c145df978>"
      ]
     },
     "metadata": {},
     "output_type": "display_data"
    }
   ],
   "source": [
    "base = pumashplc.plot(column=\"pcBB\", cmap= cp.discrete_cmap(5, base_cmap= 'GnBu'),legend=True, figsize=(10, 10), edgecolor=\"white\", lw=1)\n",
    "linkNYC.plot(column='age', ax=base, cmap=\"Reds_r\", markersize = 1)\n",
    "plt.show()"
   ]
  },
  {
   "cell_type": "markdown",
   "metadata": {},
   "source": [
    "# Extra credit 1: \n",
    "How would you enhance the visibility of this map? you are working with numbers that are mostly very low, and reside near each other, and them have a few much higher value points. Notice that here the high values are interesting though and should not be thrown away!"
   ]
  },
  {
   "cell_type": "code",
   "execution_count": 208,
   "metadata": {},
   "outputs": [
    {
     "data": {
      "image/png": "[encoded data removed]",
      "text/plain": [
       "<matplotlib.figure.Figure at 0x7fc96a52a1d0>"
      ]
     },
     "metadata": {},
     "output_type": "display_data"
    }
   ],
   "source": [
    "pl.hist(pumashplc[\"linkNYCpp\"], bins=30);"
   ]
  },
  {
   "cell_type": "markdown",
   "metadata": {},
   "source": [
    "## Extra Credit 2:\n",
    "plot Spatial Lag Deciles that describe the impact of linkNYC in providing access where needed. You can follow what you did in the lab, but you need to create a metric based on the data you have tha measures the impact of linkNYC\n"
   ]
  },
  {
   "cell_type": "code",
   "execution_count": 237,
   "metadata": {},
   "outputs": [
    {
     "data": {
      "image/png": "[encoded data removed]",
      "text/plain": [
       "<matplotlib.figure.Figure at 0x7fc9609c2400>"
      ]
     },
     "metadata": {},
     "output_type": "display_data"
    }
   ],
   "source": []
  },
  {
   "cell_type": "markdown",
   "metadata": {},
   "source": [
    "this is whay I came up with, and needs not be the same for you. But properly describe what you obtain"
   ]
  },
  {
   "cell_type": "markdown",
   "metadata": {},
   "source": [
    "\n",
    "Note: To find the table you extracted through the API manually you could\n",
    "\n",
    "https://factfinder.census.gov/ -> Advanced Search -> Show me all \n",
    "    \n",
    "    - Topics: Housing -> Physical Characteristics -> Internet Access\n",
    "    - Geographies -> all geography types -> Public Use Microdata Areas (755)\n",
    "                     -> Select a State: New York -> All Pubic Use Microdaa Areas within New York\n",
    "                     -> Add Your Selection\n",
    "    - Years -> 2016"
   ]
  },
  {
   "cell_type": "code",
   "execution_count": null,
   "metadata": {
    "collapsed": true
   },
   "outputs": [],
   "source": []
  }
 ],
 "metadata": {
  "kernelspec": {
   "display_name": "Python 3",
   "language": "python",
   "name": "python3"
  },
  "language_info": {
   "codemirror_mode": {
    "name": "ipython",
    "version": 3
   },
   "file_extension": ".py",
   "mimetype": "text/x-python",
   "name": "python",
   "nbconvert_exporter": "python",
   "pygments_lexer": "ipython3",
   "version": "3.6.1"
  }
 },
 "nbformat": 4,
 "nbformat_minor": 2
}
